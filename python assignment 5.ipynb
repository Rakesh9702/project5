{
 "cells": [
  {
   "cell_type": "code",
   "execution_count": 1,
   "id": "ab47a139-8e6b-4d50-8d88-3c96dab370bb",
   "metadata": {},
   "outputs": [],
   "source": [
    "# FOR LOOP"
   ]
  },
  {
   "cell_type": "code",
   "execution_count": 2,
   "id": "8f36784c-ab1c-470d-a982-50c00074afad",
   "metadata": {},
   "outputs": [
    {
     "name": "stdout",
     "output_type": "stream",
     "text": [
      "1\n",
      "2\n",
      "3\n",
      "4\n",
      "5\n",
      "6\n",
      "7\n",
      "8\n",
      "9\n",
      "10\n"
     ]
    }
   ],
   "source": [
    "#Q.1.Write a Python program to print numbers from 1 to 10 using a for loop.\n",
    "for i in range(1, 11):\n",
    "    print(i)"
   ]
  },
  {
   "cell_type": "code",
   "execution_count": 3,
   "id": "c3d5ef4a-8fd1-4321-8e25-bd8f16fecfa9",
   "metadata": {},
   "outputs": [
    {
     "name": "stdout",
     "output_type": "stream",
     "text": [
      "apple\n",
      "banana\n",
      "cherry\n"
     ]
    }
   ],
   "source": [
    "#Q.2.Explain the difference between a for loop and a while loop in Python.\n",
    "'''In Python, both for loops and while loops are used for repetitive tasks, but they have different structures and use cases.\n",
    "Here are the key differences between them:\n",
    "i) structure , ii) control flow , iii) initialization and update'''\n",
    "#for example \n",
    "#'for' loop\n",
    "# Iterating over a list\n",
    "fruits = [\"apple\", \"banana\", \"cherry\"]\n",
    "for fruit in fruits:\n",
    "    print(fruit)"
   ]
  },
  {
   "cell_type": "code",
   "execution_count": 4,
   "id": "dafe3839-c473-47a6-976a-6e2456700055",
   "metadata": {},
   "outputs": [
    {
     "name": "stdout",
     "output_type": "stream",
     "text": [
      "1\n",
      "2\n",
      "3\n",
      "4\n",
      "5\n"
     ]
    }
   ],
   "source": [
    "#'while' loop\n",
    "# Using a while loop to count from 1 to 5\n",
    "count = 1\n",
    "while count <= 5:\n",
    "    print(count)\n",
    "    count += 1"
   ]
  },
  {
   "cell_type": "code",
   "execution_count": 5,
   "id": "cfde8f66-aacc-41c7-87bf-87350b20ecc9",
   "metadata": {},
   "outputs": [
    {
     "name": "stdout",
     "output_type": "stream",
     "text": [
      "The sum of numbers from 1 to 100 is: 5050\n"
     ]
    }
   ],
   "source": [
    "#Q.3.Write a Python program to calculate the sum of all numbers from 1 to 100 using a for loop.\n",
    "# Initialize a variable to store the sum\n",
    "sum_of_numbers = 0\n",
    "\n",
    "# Use a for loop to iterate from 1 to 100 (inclusive)\n",
    "for num in range(1, 101):\n",
    "    sum_of_numbers += num\n",
    "\n",
    "# Print the sum\n",
    "print(\"The sum of numbers from 1 to 100 is:\", sum_of_numbers)"
   ]
  },
  {
   "cell_type": "code",
   "execution_count": 6,
   "id": "385387a9-b235-4069-a3e7-be8498740978",
   "metadata": {},
   "outputs": [
    {
     "name": "stdout",
     "output_type": "stream",
     "text": [
      "1\n",
      "2\n",
      "3\n",
      "4\n",
      "5\n"
     ]
    }
   ],
   "source": [
    "#Q.4.How do you iterate through a list using a for loop in Python?\n",
    "my_list = [1, 2, 3, 4, 5]\n",
    "\n",
    "for item in my_list:\n",
    "    # Code to be executed for each item in the list\n",
    "    print(item)"
   ]
  },
  {
   "cell_type": "code",
   "execution_count": 7,
   "id": "ac0563df-e53b-486d-8c8a-6ee5ccdcecc0",
   "metadata": {},
   "outputs": [
    {
     "name": "stdout",
     "output_type": "stream",
     "text": [
      "The product of all elements in the list is: 120\n"
     ]
    }
   ],
   "source": [
    "#Q.5.Write a Python program to find the product of all elements in a list using a for loop.\n",
    "# Initialize a variable to store the product, initially set to 1\n",
    "product = 1\n",
    "\n",
    "# List of numbers\n",
    "my_list = [2, 3, 4, 5]\n",
    "\n",
    "# Use a for loop to iterate through the list and calculate the product\n",
    "for num in my_list:\n",
    "    product *= num\n",
    "\n",
    "# Print the product\n",
    "print(\"The product of all elements in the list is:\", product)"
   ]
  },
  {
   "cell_type": "code",
   "execution_count": 8,
   "id": "ca632a8c-7edd-4829-b2ac-540350c71671",
   "metadata": {},
   "outputs": [
    {
     "name": "stdout",
     "output_type": "stream",
     "text": [
      "2\n",
      "4\n",
      "6\n",
      "8\n",
      "10\n",
      "12\n",
      "14\n",
      "16\n",
      "18\n",
      "20\n"
     ]
    }
   ],
   "source": [
    "#Q.6.Create a Python program that prints all even numbers from 1 to 20 using a for loop.\n",
    "# Use a for loop to iterate from 1 to 20\n",
    "for num in range(1, 21):\n",
    "    # Check if the number is even\n",
    "    if num % 2 == 0:\n",
    "        print(num)"
   ]
  },
  {
   "cell_type": "code",
   "execution_count": 9,
   "id": "57e183f7-3339-4324-a2ea-0183a5ebdb40",
   "metadata": {},
   "outputs": [
    {
     "name": "stdin",
     "output_type": "stream",
     "text": [
      "Enter a non-negative integer:  78\n"
     ]
    },
    {
     "name": "stdout",
     "output_type": "stream",
     "text": [
      "The factorial of 78 is 11324281178206297831457521158732046228731749579488251990048962825668835325234200766245086213177344000000000000000000\n"
     ]
    }
   ],
   "source": [
    "#Q.7.Write a Python program that calculates the factorial of a number using a for loop.\n",
    "# Input: Get the number from the user\n",
    "num = int(input(\"Enter a non-negative integer: \"))\n",
    "\n",
    "# Initialize a variable to store the factorial, initially set to 1\n",
    "factorial = 1\n",
    "\n",
    "# Check if the number is negative\n",
    "if num < 0:\n",
    "    print(\"Factorial is not defined for negative numbers.\")\n",
    "elif num == 0:\n",
    "    print(\"The factorial of 0 is 1.\")\n",
    "else:\n",
    "    # Use a for loop to calculate the factorial\n",
    "    for i in range(1, num + 1):\n",
    "        factorial *= i\n",
    "\n",
    "    # Print the factorial\n",
    "    print(f\"The factorial of {num} is {factorial}\")"
   ]
  },
  {
   "cell_type": "code",
   "execution_count": 10,
   "id": "e91bc8aa-a41a-4029-afec-974de2952faa",
   "metadata": {},
   "outputs": [
    {
     "name": "stdout",
     "output_type": "stream",
     "text": [
      "H\n",
      "e\n",
      "l\n",
      "l\n",
      "o\n",
      ",\n",
      " \n",
      "W\n",
      "o\n",
      "r\n",
      "l\n",
      "d\n",
      "!\n"
     ]
    }
   ],
   "source": [
    "#Q.8.How can you iterate through the characters of a string using a for loop in Python?\n",
    "my_string = \"Hello, World!\"\n",
    "\n",
    "# Use a for loop to iterate through the characters in the string\n",
    "for char in my_string:\n",
    "    # Code to be executed for each character\n",
    "    print(char)"
   ]
  },
  {
   "cell_type": "code",
   "execution_count": 11,
   "id": "6326626f-7ddd-44d1-ba8f-9ae874d53347",
   "metadata": {},
   "outputs": [
    {
     "name": "stdout",
     "output_type": "stream",
     "text": [
      "The largest number in the list is: 100\n"
     ]
    }
   ],
   "source": [
    "#Q.9.Write a Python program to find the largest number in a list using a for loop.\n",
    "# List of numbers\n",
    "my_list = [12, 34, 45, 67, 89, 100, 23, 56]\n",
    "\n",
    "# Initialize a variable to store the largest number, initially set to the first element of the list\n",
    "largest = my_list[0]\n",
    "\n",
    "# Use a for loop to iterate through the list and find the largest number\n",
    "for num in my_list:\n",
    "    if num > largest:\n",
    "        largest = num\n",
    "\n",
    "# Print the largest number\n",
    "print(\"The largest number in the list is:\", largest)"
   ]
  },
  {
   "cell_type": "code",
   "execution_count": 12,
   "id": "96f7c822-c58e-4ea2-96fb-20198f7c6d12",
   "metadata": {},
   "outputs": [
    {
     "name": "stdin",
     "output_type": "stream",
     "text": [
      "Enter the limit for the Fibonacci sequence:  10\n"
     ]
    },
    {
     "name": "stdout",
     "output_type": "stream",
     "text": [
      "Fibonacci sequence up to the limit:\n",
      "0\n",
      "1\n",
      "1\n",
      "2\n",
      "3\n",
      "5\n",
      "8\n"
     ]
    }
   ],
   "source": [
    "#Q.10.Create a Python program that prints the Fibonacci sequence up to a specified limit using a for loop.\n",
    "# Get the limit from the user\n",
    "limit = int(input(\"Enter the limit for the Fibonacci sequence: \"))\n",
    "\n",
    "# Initialize the first two Fibonacci numbers\n",
    "fibonacci_sequence = [0, 1]\n",
    "\n",
    "# Use a for loop to generate the Fibonacci sequence up to the limit\n",
    "while fibonacci_sequence[-1] + fibonacci_sequence[-2] <= limit:\n",
    "    next_fibonacci = fibonacci_sequence[-1] + fibonacci_sequence[-2]\n",
    "    fibonacci_sequence.append(next_fibonacci)\n",
    "\n",
    "# Print the Fibonacci sequence\n",
    "print(\"Fibonacci sequence up to the limit:\")\n",
    "for num in fibonacci_sequence:\n",
    "    print(num)"
   ]
  },
  {
   "cell_type": "code",
   "execution_count": 13,
   "id": "13ac38ff-bfb3-4372-9776-c0d7f4747e00",
   "metadata": {},
   "outputs": [
    {
     "name": "stdin",
     "output_type": "stream",
     "text": [
      "Enter a string:  'lets do coding together'\n"
     ]
    },
    {
     "name": "stdout",
     "output_type": "stream",
     "text": [
      "Number of vowels in the string: 7\n"
     ]
    }
   ],
   "source": [
    "#Q.11.Write a Python program to count the number of vowels in a given string using a for loop.\n",
    "# Get the input string from the user\n",
    "input_string = input(\"Enter a string: \")\n",
    "\n",
    "# Initialize a variable to store the vowel count\n",
    "vowel_count = 0\n",
    "\n",
    "# Define a string of vowels\n",
    "vowels = \"AEIOUaeiou\"\n",
    "\n",
    "# Use a for loop to iterate through each character in the input string\n",
    "for char in input_string:\n",
    "    # Check if the character is a vowel\n",
    "    if char in vowels:\n",
    "        vowel_count += 1\n",
    "\n",
    "# Print the vowel count\n",
    "print(\"Number of vowels in the string:\", vowel_count)"
   ]
  },
  {
   "cell_type": "code",
   "execution_count": 14,
   "id": "89705360-e70b-4561-9c10-3da5264159ae",
   "metadata": {},
   "outputs": [
    {
     "name": "stdin",
     "output_type": "stream",
     "text": [
      "Enter a number:  67\n"
     ]
    },
    {
     "name": "stdout",
     "output_type": "stream",
     "text": [
      "Multiplication table for 67:\n",
      "67 x 1 = 67\n",
      "67 x 2 = 134\n",
      "67 x 3 = 201\n",
      "67 x 4 = 268\n",
      "67 x 5 = 335\n",
      "67 x 6 = 402\n",
      "67 x 7 = 469\n",
      "67 x 8 = 536\n",
      "67 x 9 = 603\n",
      "67 x 10 = 670\n"
     ]
    }
   ],
   "source": [
    "#Q.12.Create a Python program that generates a multiplication table for a given number using a for loop.\n",
    "# Get the number for which you want to generate the multiplication table\n",
    "number = int(input(\"Enter a number: \"))\n",
    "\n",
    "# Define the range for the multiplication table (e.g., 1 to 10)\n",
    "start = 1\n",
    "end = 10\n",
    "\n",
    "# Print the multiplication table for the given number\n",
    "print(f\"Multiplication table for {number}:\")\n",
    "\n",
    "for i in range(start, end + 1):\n",
    "    result = number * i\n",
    "    print(f\"{number} x {i} = {result}\")"
   ]
  },
  {
   "cell_type": "code",
   "execution_count": 15,
   "id": "1ac8d38e-102d-43ec-8738-4013a21c7702",
   "metadata": {},
   "outputs": [
    {
     "name": "stdout",
     "output_type": "stream",
     "text": [
      "Original list: [1, 2, 3, 4, 5]\n",
      "Reversed list: [5, 4, 3, 2, 1]\n"
     ]
    }
   ],
   "source": [
    "#Q.13.Write a Python program to reverse a list using a for loop.\n",
    "# Input: List to be reversed\n",
    "my_list = [1, 2, 3, 4, 5]\n",
    "\n",
    "# Initialize an empty list to store the reversed elements\n",
    "reversed_list = []\n",
    "\n",
    "# Use a for loop to reverse the list\n",
    "for item in my_list:\n",
    "    reversed_list.insert(0, item)\n",
    "\n",
    "# Print the reversed list\n",
    "print(\"Original list:\", my_list)\n",
    "print(\"Reversed list:\", reversed_list)"
   ]
  },
  {
   "cell_type": "code",
   "execution_count": 16,
   "id": "4c21b1c8-c26a-4a07-92da-a8da8f1b08e2",
   "metadata": {},
   "outputs": [
    {
     "name": "stdout",
     "output_type": "stream",
     "text": [
      "Common elements between the two lists: [3, 4, 5]\n"
     ]
    }
   ],
   "source": [
    "#Q.14.Write a Python program to find the common elements between two lists using a for loop.\n",
    "# Input: Two lists\n",
    "list1 = [1, 2, 3, 4, 5]\n",
    "list2 = [3, 4, 5, 6, 7]\n",
    "\n",
    "# Initialize an empty list to store the common elements\n",
    "common_elements = []\n",
    "\n",
    "# Use a for loop to iterate through elements in list1\n",
    "for item1 in list1:\n",
    "    # Use another for loop to iterate through elements in list2\n",
    "    for item2 in list2:\n",
    "        # Check if the elements are the same\n",
    "        if item1 == item2:\n",
    "            common_elements.append(item1)\n",
    "\n",
    "# Remove duplicates from the common_elements list (optional)\n",
    "common_elements = list(set(common_elements))\n",
    "\n",
    "# Print the common elements\n",
    "print(\"Common elements between the two lists:\", common_elements)"
   ]
  },
  {
   "cell_type": "code",
   "execution_count": 17,
   "id": "f021ea7c-a496-473d-8702-999ed0a9808c",
   "metadata": {},
   "outputs": [
    {
     "name": "stdout",
     "output_type": "stream",
     "text": [
      "apple 3\n",
      "banana 2\n",
      "cherry 4\n"
     ]
    }
   ],
   "source": [
    "#Q.15.Explain how to use a for loop to iterate through the keys and values of a dictionary in Python.\n",
    "my_dict = {\"apple\": 3, \"banana\": 2, \"cherry\": 4}\n",
    "\n",
    "for key, value in my_dict.items():\n",
    "    print(key, value)"
   ]
  },
  {
   "cell_type": "code",
   "execution_count": 18,
   "id": "01482ec6-581e-4c68-b322-70dd1f691c26",
   "metadata": {},
   "outputs": [
    {
     "name": "stdin",
     "output_type": "stream",
     "text": [
      "Enter the first number:  6\n",
      "Enter the second number:  8\n"
     ]
    },
    {
     "name": "stdout",
     "output_type": "stream",
     "text": [
      "The GCD of 6 and 8 is 2\n"
     ]
    }
   ],
   "source": [
    "#Q.16.Write a Python program to find the GCD (Greatest Common Divisor) of two numbers using a for loop.\n",
    "# Input: Two numbers\n",
    "num1 = int(input(\"Enter the first number: \"))\n",
    "num2 = int(input(\"Enter the second number: \"))\n",
    "\n",
    "# Determine the smaller and larger numbers\n",
    "if num1 < num2:\n",
    "    smaller = num1\n",
    "    larger = num2\n",
    "else:\n",
    "    smaller = num2\n",
    "    larger = num1\n",
    "\n",
    "# Initialize a variable to store the GCD\n",
    "gcd = 1\n",
    "\n",
    "# Use a for loop to find the GCD\n",
    "for i in range(1, smaller + 1):\n",
    "    if smaller % i == 0 and larger % i == 0:\n",
    "        gcd = i\n",
    "\n",
    "# Print the GCD\n",
    "print(\"The GCD of\", num1, \"and\", num2, \"is\", gcd)"
   ]
  },
  {
   "cell_type": "code",
   "execution_count": 19,
   "id": "81b5168d-7c79-405b-9718-ea46bd843a79",
   "metadata": {},
   "outputs": [
    {
     "name": "stdin",
     "output_type": "stream",
     "text": [
      "Enter a string:  'i love to do coding'\n"
     ]
    },
    {
     "name": "stdout",
     "output_type": "stream",
     "text": [
      "''i love to do coding'' is not a palindrome.\n"
     ]
    }
   ],
   "source": [
    "#Q.17.Create a Python program that checks if a string is a palindrome using a for loop.\n",
    "# Get the input string from the user\n",
    "input_string = input(\"Enter a string: \")\n",
    "\n",
    "# Remove spaces and convert to lowercase for case-insensitive comparison\n",
    "cleaned_string = input_string.replace(\" \", \"\").lower()\n",
    "\n",
    "# Initialize a flag to indicate whether it's a palindrome\n",
    "is_palindrome = True\n",
    "\n",
    "# Use a for loop to check if the string is a palindrome\n",
    "for i in range(len(cleaned_string) // 2):\n",
    "    if cleaned_string[i] != cleaned_string[-i - 1]:\n",
    "        is_palindrome = False\n",
    "        break\n",
    "\n",
    "# Print the result\n",
    "if is_palindrome:\n",
    "    print(f\"'{input_string}' is a palindrome.\")\n",
    "else:\n",
    "    print(f\"'{input_string}' is not a palindrome.\")"
   ]
  },
  {
   "cell_type": "code",
   "execution_count": 20,
   "id": "9d78675c-3062-4a8d-be39-715d62d173e5",
   "metadata": {},
   "outputs": [
    {
     "name": "stdout",
     "output_type": "stream",
     "text": [
      "Original list: [1, 2, 2, 3, 4, 4, 5, 6, 6, 7]\n",
      "List with duplicates removed: [1, 2, 3, 4, 5, 6, 7]\n"
     ]
    }
   ],
   "source": [
    "#Q.18.Write a Python program to remove duplicates from a list using a for loop.\n",
    "# Input: List with duplicates\n",
    "my_list = [1, 2, 2, 3, 4, 4, 5, 6, 6, 7]\n",
    "\n",
    "# Initialize an empty list to store unique elements\n",
    "unique_list = []\n",
    "\n",
    "# Use a for loop to remove duplicates\n",
    "for item in my_list:\n",
    "    if item not in unique_list:\n",
    "        unique_list.append(item)\n",
    "\n",
    "# Print the list with duplicates removed\n",
    "print(\"Original list:\", my_list)\n",
    "print(\"List with duplicates removed:\", unique_list)"
   ]
  },
  {
   "cell_type": "code",
   "execution_count": 21,
   "id": "20700fdf-7f6d-41b7-831e-6f2f477be4ce",
   "metadata": {},
   "outputs": [
    {
     "name": "stdin",
     "output_type": "stream",
     "text": [
      "Enter a sentence:  lets go somewhere for peace\n"
     ]
    },
    {
     "name": "stdout",
     "output_type": "stream",
     "text": [
      "Number of words in the sentence: 5\n"
     ]
    }
   ],
   "source": [
    "#Q.19.Create a Python program that counts the number of words in a sentence using a for loop.\n",
    "# Get the input sentence from the user\n",
    "sentence = input(\"Enter a sentence: \")\n",
    "\n",
    "# Initialize a variable to store the word count\n",
    "word_count = 0\n",
    "\n",
    "# Use a for loop to count words in the sentence\n",
    "for word in sentence.split():\n",
    "    word_count += 1\n",
    "\n",
    "# Print the word count\n",
    "print(\"Number of words in the sentence:\", word_count)"
   ]
  },
  {
   "cell_type": "code",
   "execution_count": 22,
   "id": "e942b99e-6de9-4a32-a72a-d8c883b5f29e",
   "metadata": {},
   "outputs": [
    {
     "name": "stdout",
     "output_type": "stream",
     "text": [
      "The sum of odd numbers from 1 to 50 is: 625\n"
     ]
    }
   ],
   "source": [
    "#Q.20.Write a Python program to find the sum of all odd numbers from 1 to 50 using a for loop.\n",
    "# Initialize a variable to store the sum, initially set to 0\n",
    "sum_of_odds = 0\n",
    "\n",
    "# Use a for loop to iterate from 1 to 50\n",
    "for num in range(1, 51):\n",
    "    # Check if the number is odd\n",
    "    if num % 2 != 0:\n",
    "        sum_of_odds += num\n",
    "\n",
    "# Print the sum of odd numbers\n",
    "print(\"The sum of odd numbers from 1 to 50 is:\", sum_of_odds)"
   ]
  },
  {
   "cell_type": "code",
   "execution_count": 23,
   "id": "5c962763-5503-4e3e-8831-77fb92e7b6f5",
   "metadata": {},
   "outputs": [
    {
     "name": "stdin",
     "output_type": "stream",
     "text": [
      "Enter a year:  2067\n"
     ]
    },
    {
     "name": "stdout",
     "output_type": "stream",
     "text": [
      "2067 is not a leap year.\n"
     ]
    }
   ],
   "source": [
    "#Q.21.Write a Python program that checks if a given year is a leap year using a for loop.\n",
    "# Get the input year from the user\n",
    "year = int(input(\"Enter a year: \"))\n",
    "\n",
    "# Check if it's a leap year\n",
    "if (year % 4 == 0 and year % 100 != 0) or (year % 400 == 0):\n",
    "    print(year, \"is a leap year.\")\n",
    "else:\n",
    "    print(year, \"is not a leap year.\")"
   ]
  },
  {
   "cell_type": "code",
   "execution_count": 24,
   "id": "fd30ee7d-ec03-4625-84d8-64103e881518",
   "metadata": {},
   "outputs": [
    {
     "name": "stdin",
     "output_type": "stream",
     "text": [
      "Enter a number to calculate its square root:  58\n"
     ]
    },
    {
     "name": "stdout",
     "output_type": "stream",
     "text": [
      "Approximate square root of 58.0 is approximately 7.615773105863909\n"
     ]
    }
   ],
   "source": [
    "#Q.22.Create a Python program that calculates the square root of a number using a for loop.\n",
    "# Get the input number from the user\n",
    "num = float(input(\"Enter a number to calculate its square root: \"))\n",
    "\n",
    "# Initialize an initial guess for the square root\n",
    "guess = num / 2  # Starting with a guess of num/2\n",
    "\n",
    "# Number of iterations for refining the guess\n",
    "iterations = 10  # You can adjust this for more accuracy\n",
    "\n",
    "# Use a for loop to iterate for a specified number of iterations\n",
    "for _ in range(iterations):\n",
    "    guess = (guess + num / guess) / 2\n",
    "\n",
    "# Print the square root approximation\n",
    "print(\"Approximate square root of\", num, \"is approximately\", guess)"
   ]
  },
  {
   "cell_type": "code",
   "execution_count": 25,
   "id": "5c0741d2-a037-4b24-b6e0-195512680386",
   "metadata": {},
   "outputs": [
    {
     "name": "stdin",
     "output_type": "stream",
     "text": [
      "Enter the first number:  5\n",
      "Enter the second number:  25\n"
     ]
    },
    {
     "name": "stdout",
     "output_type": "stream",
     "text": [
      "The LCM of 5 and 25 is 25\n"
     ]
    }
   ],
   "source": [
    "#Q.23.Write a Python program to find the LCM (Least Common Multiple) of two numbers using a for loop.\n",
    "# Function to calculate the LCM of two numbers\n",
    "def calculate_lcm(num1, num2):\n",
    "    # Find the maximum of the two numbers\n",
    "    max_num = max(num1, num2)\n",
    "\n",
    "    # Use a for loop to find the LCM\n",
    "    for i in range(max_num, num1 * num2 + 1):\n",
    "        if i % num1 == 0 and i % num2 == 0:\n",
    "            return i\n",
    "\n",
    "# Get the input numbers from the user\n",
    "num1 = int(input(\"Enter the first number: \"))\n",
    "num2 = int(input(\"Enter the second number: \"))\n",
    "\n",
    "# Calculate and print the LCM\n",
    "lcm = calculate_lcm(num1, num2)\n",
    "print(f\"The LCM of {num1} and {num2} is {lcm}\")"
   ]
  },
  {
   "cell_type": "code",
   "execution_count": 26,
   "id": "1fd4a1e4-71c7-427d-8a52-de7d0a778d19",
   "metadata": {},
   "outputs": [],
   "source": [
    "# IF ELSE"
   ]
  },
  {
   "cell_type": "code",
   "execution_count": 27,
   "id": "091071d4-2d89-4a2b-9cb8-dd467702b86d",
   "metadata": {},
   "outputs": [
    {
     "name": "stdin",
     "output_type": "stream",
     "text": [
      "Enter a number:  67\n"
     ]
    },
    {
     "name": "stdout",
     "output_type": "stream",
     "text": [
      "The number is positive.\n"
     ]
    }
   ],
   "source": [
    "#Q.1.Write a Python program to check if a number is positive, negative, or zero using an if-else statement.\n",
    "# Get the number from the user\n",
    "number = float(input(\"Enter a number: \"))\n",
    "\n",
    "# Check if the number is positive, negative, or zero\n",
    "if number > 0:\n",
    "    print(\"The number is positive.\")\n",
    "elif number < 0:\n",
    "    print(\"The number is negative.\")\n",
    "else:\n",
    "    print(\"The number is zero.\")"
   ]
  },
  {
   "cell_type": "code",
   "execution_count": 28,
   "id": "4d5ef666-2fa1-4d2b-b0cd-7161983fa20c",
   "metadata": {},
   "outputs": [
    {
     "name": "stdin",
     "output_type": "stream",
     "text": [
      "Enter a number:  56\n"
     ]
    },
    {
     "name": "stdout",
     "output_type": "stream",
     "text": [
      "The number is even.\n"
     ]
    }
   ],
   "source": [
    "#Q.2.Create a Python program that checks if a given number is even or odd using an if-else statement.\n",
    "# Get the number from the user\n",
    "number = int(input(\"Enter a number: \"))\n",
    "\n",
    "# Check if the number is even or odd\n",
    "if number % 2 == 0:\n",
    "    print(\"The number is even.\")\n",
    "else:\n",
    "    print(\"The number is odd.\")"
   ]
  },
  {
   "cell_type": "code",
   "execution_count": 29,
   "id": "2fe1308a-6372-4115-a969-9e511aa75ed3",
   "metadata": {},
   "outputs": [
    {
     "name": "stdin",
     "output_type": "stream",
     "text": [
      "Enter the student's score:  99\n"
     ]
    },
    {
     "name": "stdout",
     "output_type": "stream",
     "text": [
      "The student's grade is: A+\n"
     ]
    }
   ],
   "source": [
    "#Q.3.How can you use nested if-else statements in Python, and provide an example?\n",
    "# Get the student's score from the user\n",
    "score = int(input(\"Enter the student's score: \"))\n",
    "\n",
    "# Determine the grade based on the score\n",
    "if score >= 90:\n",
    "    grade = \"A\"\n",
    "    if score >= 95:\n",
    "        grade += \"+\"\n",
    "elif score >= 80:\n",
    "    grade = \"B\"\n",
    "elif score >= 70:\n",
    "    grade = \"C\"\n",
    "elif score >= 60:\n",
    "    grade = \"D\"\n",
    "else:\n",
    "    grade = \"F\"\n",
    "\n",
    "# Print the grade\n",
    "print(\"The student's grade is:\", grade)"
   ]
  },
  {
   "cell_type": "code",
   "execution_count": 30,
   "id": "9f65be25-c728-4a8b-bed7-4a05363e3f36",
   "metadata": {},
   "outputs": [
    {
     "name": "stdin",
     "output_type": "stream",
     "text": [
      "Enter the first number:  78\n",
      "Enter the second number:  45\n",
      "Enter the third number:  67\n"
     ]
    },
    {
     "name": "stdout",
     "output_type": "stream",
     "text": [
      "The largest number among 78.0 , 45.0 , and 67.0 is 78.0\n"
     ]
    }
   ],
   "source": [
    "#Q.4.Write a Python program to determine the largest of three numbers using if-else.\n",
    "# Get the three numbers from the user\n",
    "num1 = float(input(\"Enter the first number: \"))\n",
    "num2 = float(input(\"Enter the second number: \"))\n",
    "num3 = float(input(\"Enter the third number: \"))\n",
    "\n",
    "# Determine the largest number using if-else statements\n",
    "if num1 >= num2 and num1 >= num3:\n",
    "    largest = num1\n",
    "elif num2 >= num1 and num2 >= num3:\n",
    "    largest = num2\n",
    "else:\n",
    "    largest = num3\n",
    "\n",
    "# Print the largest number\n",
    "print(\"The largest number among\", num1, \",\", num2, \", and\", num3, \"is\", largest)"
   ]
  },
  {
   "cell_type": "code",
   "execution_count": 31,
   "id": "33cc0acd-ecc9-4102-ac9d-0a3c81c784a1",
   "metadata": {},
   "outputs": [
    {
     "name": "stdin",
     "output_type": "stream",
     "text": [
      "Enter a number:  78\n"
     ]
    },
    {
     "name": "stdout",
     "output_type": "stream",
     "text": [
      "The absolute value of 78.0 is 78.0\n"
     ]
    }
   ],
   "source": [
    "#Q.5.Write a Python program that calculates the absolute value of a number using if-else.\n",
    "# Get the number from the user\n",
    "number = float(input(\"Enter a number: \"))\n",
    "\n",
    "# Calculate the absolute value using if-else statements\n",
    "if number >= 0:\n",
    "    absolute_value = number\n",
    "else:\n",
    "    absolute_value = -number\n",
    "\n",
    "# Print the absolute value\n",
    "print(\"The absolute value of\", number, \"is\", absolute_value)"
   ]
  },
  {
   "cell_type": "code",
   "execution_count": 32,
   "id": "c41c1da0-a0be-4f5c-950b-dac6c49587d2",
   "metadata": {},
   "outputs": [
    {
     "name": "stdin",
     "output_type": "stream",
     "text": [
      "Enter a character:  g\n"
     ]
    },
    {
     "name": "stdout",
     "output_type": "stream",
     "text": [
      "The character 'g' is a consonant.\n"
     ]
    }
   ],
   "source": [
    "#Q.6.Create a Python program that checks if a given character is a vowel or consonant using if-else.\n",
    "# Get the character from the user (assuming a single character input)\n",
    "char = input(\"Enter a character: \")\n",
    "\n",
    "# Check if the input is a single character\n",
    "if len(char) == 1:\n",
    "    # Convert the character to lowercase for case-insensitive comparison\n",
    "    char = char.lower()\n",
    "\n",
    "    # Check if the character is a vowel or consonant using if-else statements\n",
    "    if char == 'a' or char == 'e' or char == 'i' or char == 'o' or char == 'u':\n",
    "        print(f\"The character '{char}' is a vowel.\")\n",
    "    else:\n",
    "        print(f\"The character '{char}' is a consonant.\")\n",
    "else:\n",
    "    print(\"Please enter a single character.\")"
   ]
  },
  {
   "cell_type": "code",
   "execution_count": 33,
   "id": "9815b4f9-8b45-46ab-8f12-3193d3b01932",
   "metadata": {},
   "outputs": [
    {
     "name": "stdin",
     "output_type": "stream",
     "text": [
      "Enter your age:  21\n"
     ]
    },
    {
     "name": "stdout",
     "output_type": "stream",
     "text": [
      "You are eligible to vote.\n"
     ]
    }
   ],
   "source": [
    "#Q.7.Write a Python program to determine if a user is eligible to vote based on their age using if-else.\n",
    "# Get the user's age from the user\n",
    "age = int(input(\"Enter your age: \"))\n",
    "\n",
    "# Check if the user is eligible to vote using if-else statements\n",
    "if age >= 18:\n",
    "    print(\"You are eligible to vote.\")\n",
    "else:\n",
    "    print(\"You are not eligible to vote.\")"
   ]
  },
  {
   "cell_type": "code",
   "execution_count": 34,
   "id": "c70d1575-6978-471e-9458-71f829a88c92",
   "metadata": {},
   "outputs": [
    {
     "name": "stdin",
     "output_type": "stream",
     "text": [
      "Enter the purchase amount:  1599\n"
     ]
    },
    {
     "name": "stdout",
     "output_type": "stream",
     "text": [
      "Discount applied: $159.90\n",
      "Total amount after discount: $1439.10\n"
     ]
    }
   ],
   "source": [
    "#Q.8.Create a Python program that calculates the discount amount based on the purchase amount using if-else.\n",
    "# Get the purchase amount from the user\n",
    "purchase_amount = float(input(\"Enter the purchase amount: \"))\n",
    "\n",
    "# Initialize a variable to store the discount amount\n",
    "discount_amount = 0.0\n",
    "\n",
    "# Apply discount rules using if-else statements\n",
    "if purchase_amount >= 100:\n",
    "    discount_amount = 0.1 * purchase_amount  # 10% discount for purchases >= $100\n",
    "elif purchase_amount >= 50:\n",
    "    discount_amount = 0.05 * purchase_amount  # 5% discount for purchases >= $50\n",
    "\n",
    "# Print the discount amount\n",
    "if discount_amount > 0:\n",
    "    print(f\"Discount applied: ${discount_amount:.2f}\")\n",
    "    print(f\"Total amount after discount: ${purchase_amount - discount_amount:.2f}\")\n",
    "else:\n",
    "    print(\"No discount applied. Total amount: $\", purchase_amount)"
   ]
  },
  {
   "cell_type": "code",
   "execution_count": 35,
   "id": "711f7d90-b85b-4cba-90bd-8bbf28af8902",
   "metadata": {},
   "outputs": [
    {
     "name": "stdin",
     "output_type": "stream",
     "text": [
      "Enter a number:  78\n"
     ]
    },
    {
     "name": "stdout",
     "output_type": "stream",
     "text": [
      "78.0 is not within the range [10, 50].\n"
     ]
    }
   ],
   "source": [
    "#Q.9.Write a Python program to check if a number is within a specified range using if-else.\n",
    "# Define the specified range\n",
    "lower_limit = 10\n",
    "upper_limit = 50\n",
    "\n",
    "# Get the number from the user\n",
    "number = float(input(\"Enter a number: \"))\n",
    "\n",
    "# Check if the number is within the specified range using if-else statements\n",
    "if number >= lower_limit and number <= upper_limit:\n",
    "    print(f\"{number} is within the range [{lower_limit}, {upper_limit}].\")\n",
    "else:\n",
    "    print(f\"{number} is not within the range [{lower_limit}, {upper_limit}].\")"
   ]
  },
  {
   "cell_type": "code",
   "execution_count": 36,
   "id": "3bfc3e8f-ab16-4cfd-bf51-f20336e34037",
   "metadata": {},
   "outputs": [
    {
     "name": "stdin",
     "output_type": "stream",
     "text": [
      "Enter the student's score:  87\n"
     ]
    },
    {
     "name": "stdout",
     "output_type": "stream",
     "text": [
      "The student's grade is: B\n"
     ]
    }
   ],
   "source": [
    "#Q.10.Create a Python program that determines the grade of a student based on their score using if-else.\n",
    "# Get the student's score from the user\n",
    "score = float(input(\"Enter the student's score: \"))\n",
    "\n",
    "# Determine the grade based on score using if-else statements\n",
    "if score >= 90:\n",
    "    grade = \"A\"\n",
    "elif score >= 80:\n",
    "    grade = \"B\"\n",
    "elif score >= 70:\n",
    "    grade = \"C\"\n",
    "elif score >= 60:\n",
    "    grade = \"D\"\n",
    "else:\n",
    "    grade = \"F\"\n",
    "\n",
    "# Print the grade\n",
    "print(f\"The student's grade is: {grade}\")"
   ]
  },
  {
   "cell_type": "code",
   "execution_count": 37,
   "id": "3fe72998-da72-4e5b-8c69-d71b29df6f18",
   "metadata": {},
   "outputs": [
    {
     "name": "stdin",
     "output_type": "stream",
     "text": [
      "Enter a string:  'always be happy'\n"
     ]
    },
    {
     "name": "stdout",
     "output_type": "stream",
     "text": [
      "The string is not empty.\n"
     ]
    }
   ],
   "source": [
    "#Q.11.Write a Python program to check if a string is empty or not using if-else.\n",
    "# Get the input string from the user\n",
    "user_input = input(\"Enter a string: \")\n",
    "\n",
    "# Check if the string is empty or not using if-else statements\n",
    "if user_input:\n",
    "    print(\"The string is not empty.\")\n",
    "else:\n",
    "    print(\"The string is empty.\")"
   ]
  },
  {
   "cell_type": "code",
   "execution_count": 38,
   "id": "9c86c803-fb8e-4063-b6d9-367e6a4cf0a6",
   "metadata": {},
   "outputs": [
    {
     "name": "stdin",
     "output_type": "stream",
     "text": [
      "Enter the length of the first side:  42\n",
      "Enter the length of the second side:  56\n",
      "Enter the length of the third side:  65\n"
     ]
    },
    {
     "name": "stdout",
     "output_type": "stream",
     "text": [
      "The triangle is a scalene triangle.\n"
     ]
    }
   ],
   "source": [
    "#Q.12.Create a Python program that identifies the type of a triangle (e.g., equilateral, isosceles, or scalene) based on input values using if-else.\n",
    "# Get the lengths of the three sides of the triangle from the user\n",
    "side1 = float(input(\"Enter the length of the first side: \"))\n",
    "side2 = float(input(\"Enter the length of the second side: \"))\n",
    "side3 = float(input(\"Enter the length of the third side: \"))\n",
    "\n",
    "# Check if the triangle is equilateral, isosceles, or scalene using if-else statements\n",
    "if side1 == side2 == side3:\n",
    "    triangle_type = \"equilateral\"\n",
    "elif side1 == side2 or side1 == side3 or side2 == side3:\n",
    "    triangle_type = \"isosceles\"\n",
    "else:\n",
    "    triangle_type = \"scalene\"\n",
    "\n",
    "# Print the type of the triangle\n",
    "print(f\"The triangle is a {triangle_type} triangle.\")"
   ]
  },
  {
   "cell_type": "code",
   "execution_count": 39,
   "id": "fe749ebd-f27c-4e55-ba47-1947c54c7df0",
   "metadata": {},
   "outputs": [
    {
     "name": "stdin",
     "output_type": "stream",
     "text": [
      "Enter a number between 1 and 7:  6\n"
     ]
    },
    {
     "name": "stdout",
     "output_type": "stream",
     "text": [
      "The day corresponding to 6 is Saturday.\n"
     ]
    }
   ],
   "source": [
    "#Q.13.Write a Python program to determine the day of the week based on a user-provided number using if-else.\n",
    "# Get the user-provided number for the day of the week\n",
    "day_number = int(input(\"Enter a number between 1 and 7: \"))\n",
    "\n",
    "# Determine the day of the week using if-else statements\n",
    "if day_number == 1:\n",
    "    day = \"Monday\"\n",
    "elif day_number == 2:\n",
    "    day = \"Tuesday\"\n",
    "elif day_number == 3:\n",
    "    day = \"Wednesday\"\n",
    "elif day_number == 4:\n",
    "    day = \"Thursday\"\n",
    "elif day_number == 5:\n",
    "    day = \"Friday\"\n",
    "elif day_number == 6:\n",
    "    day = \"Saturday\"\n",
    "elif day_number == 7:\n",
    "    day = \"Sunday\"\n",
    "else:\n",
    "    day = \"Invalid input. Please enter a number between 1 and 7.\"\n",
    "\n",
    "# Print the day of the week\n",
    "print(f\"The day corresponding to {day_number} is {day}.\")"
   ]
  },
  {
   "cell_type": "code",
   "execution_count": 40,
   "id": "3918aad3-7e16-44b4-83d9-54929f4b9dfc",
   "metadata": {},
   "outputs": [
    {
     "name": "stdin",
     "output_type": "stream",
     "text": [
      "Enter a year:  3097\n"
     ]
    },
    {
     "name": "stdout",
     "output_type": "stream",
     "text": [
      "3097 is not a leap year.\n"
     ]
    }
   ],
   "source": [
    "#Q.14.Create a Python program that checks if a given year is a leap year using both if-else and a function.\n",
    "# Define a function to check if a year is a leap year\n",
    "def is_leap_year(year):\n",
    "    if (year % 4 == 0 and year % 100 != 0) or (year % 400 == 0):\n",
    "        return True\n",
    "    else:\n",
    "        return False\n",
    "\n",
    "# Get the input year from the user\n",
    "year = int(input(\"Enter a year: \"))\n",
    "\n",
    "# Check if the year is a leap year using the function\n",
    "if is_leap_year(year):\n",
    "    print(year, \"is a leap year.\")\n",
    "else:\n",
    "    print(year, \"is not a leap year.\")"
   ]
  },
  {
   "cell_type": "code",
   "execution_count": 42,
   "id": "0367140c-1af3-4d1e-b24e-ce81f49f1617",
   "metadata": {},
   "outputs": [
    {
     "name": "stdin",
     "output_type": "stream",
     "text": [
      "Enter your age:  23\n"
     ]
    },
    {
     "name": "stdout",
     "output_type": "stream",
     "text": [
      "You entered a valid age: 23\n"
     ]
    }
   ],
   "source": [
    "#Q.15.How do you use the \"assert\" statement in Python to add debugging checks within if-else blocks?\n",
    "# Get the user's age from input\n",
    "age = int(input(\"Enter your age: \"))\n",
    "\n",
    "# Check if the age is a positive number\n",
    "if age < 0:\n",
    "    print(\"Age cannot be negative.\")\n",
    "else:\n",
    "    # Use assert to check if the age is less than or equal to 120\n",
    "    assert age <= 120, \"Age should be less than or equal to 120\"\n",
    "    print(\"You entered a valid age:\", age)"
   ]
  },
  {
   "cell_type": "code",
   "execution_count": 43,
   "id": "20909b25-deab-4644-99f9-a87021a328ed",
   "metadata": {},
   "outputs": [
    {
     "name": "stdin",
     "output_type": "stream",
     "text": [
      "Enter your age:  21\n"
     ]
    },
    {
     "name": "stdout",
     "output_type": "stream",
     "text": [
      "You are not eligible for a senior citizen discount.\n"
     ]
    }
   ],
   "source": [
    "#Q.16.Create a Python program that determines the eligibility of a person for a senior citizen discount based on age using if-else.\n",
    "# Get the person's age from the user\n",
    "age = int(input(\"Enter your age: \"))\n",
    "\n",
    "# Define the age threshold for senior citizen discount\n",
    "senior_citizen_age = 60\n",
    "\n",
    "# Check if the person is eligible for a senior citizen discount using if-else statements\n",
    "if age >= senior_citizen_age:\n",
    "    print(\"You are eligible for a senior citizen discount.\")\n",
    "else:\n",
    "    print(\"You are not eligible for a senior citizen discount.\")"
   ]
  },
  {
   "cell_type": "code",
   "execution_count": 45,
   "id": "0ea834dc-7e6b-40d9-8180-527224ed4bb3",
   "metadata": {},
   "outputs": [
    {
     "name": "stdin",
     "output_type": "stream",
     "text": [
      "Enter a character:  h\n"
     ]
    },
    {
     "name": "stdout",
     "output_type": "stream",
     "text": [
      "The character 'h' is lowercase.\n"
     ]
    }
   ],
   "source": [
    "#Q.17.Write a Python program to categorize a given character as uppercase, lowercase, or neither using if-else.\n",
    "# Get the character from the user (assuming a single character input)\n",
    "char = input(\"Enter a character: \")\n",
    "\n",
    "# Check if the input is a single character\n",
    "if len(char) == 1:\n",
    "    # Check if the character is uppercase, lowercase, or neither using if-else statements\n",
    "    if char.isupper():\n",
    "        print(f\"The character '{char}' is uppercase.\")\n",
    "    elif char.islower():\n",
    "        print(f\"The character '{char}' is lowercase.\")\n",
    "    else:\n",
    "        print(f\"The character '{char}' is neither uppercase nor lowercase.\")\n",
    "else:\n",
    "    print(\"Please enter a single character.\")"
   ]
  },
  {
   "cell_type": "code",
   "execution_count": 46,
   "id": "25e4acba-b407-41ad-997d-0626e9c8444f",
   "metadata": {},
   "outputs": [
    {
     "name": "stdin",
     "output_type": "stream",
     "text": [
      "Enter the coefficient a:  5\n",
      "Enter the coefficient b:  8\n",
      "Enter the coefficient c:  3\n"
     ]
    },
    {
     "name": "stdout",
     "output_type": "stream",
     "text": [
      "The roots are real and distinct:\n",
      "Root 1 = -0.6\n",
      "Root 2 = -1.0\n"
     ]
    }
   ],
   "source": [
    "#Q.18.Write a Python program to determine the roots of a quadratic equation using if-else.\n",
    "# Get the coefficients of the quadratic equation from the user\n",
    "a = float(input(\"Enter the coefficient a: \"))\n",
    "b = float(input(\"Enter the coefficient b: \"))\n",
    "c = float(input(\"Enter the coefficient c: \"))\n",
    "\n",
    "# Calculate the discriminant\n",
    "D = b**2 - 4*a*c\n",
    "\n",
    "# Check the value of the discriminant using if-else statements\n",
    "if D > 0:\n",
    "    # Two real and distinct roots\n",
    "    root1 = (-b + (D**0.5)) / (2*a)\n",
    "    root2 = (-b - (D**0.5)) / (2*a)\n",
    "    print(\"The roots are real and distinct:\")\n",
    "    print(\"Root 1 =\", root1)\n",
    "    print(\"Root 2 =\", root2)\n",
    "elif D == 0:\n",
    "    # One real root (repeated)\n",
    "    root = -b / (2*a)\n",
    "    print(\"The root is real and repeated:\")\n",
    "    print(\"Root =\", root)\n",
    "else:\n",
    "    # Complex roots\n",
    "    real_part = -b / (2*a)\n",
    "    imaginary_part = ((-D)**0.5) / (2*a)\n",
    "    print(\"The roots are complex:\")\n",
    "    print(f\"Root 1 = {real_part} + {imaginary_part}i\")\n",
    "    print(f\"Root 2 = {real_part} - {imaginary_part}i\")"
   ]
  },
  {
   "cell_type": "code",
   "execution_count": 47,
   "id": "ea20fcaa-4060-46ec-b081-4af0583d1348",
   "metadata": {},
   "outputs": [
    {
     "name": "stdin",
     "output_type": "stream",
     "text": [
      "Enter a year:  3023\n"
     ]
    },
    {
     "name": "stdout",
     "output_type": "stream",
     "text": [
      "3023 is not a century year.\n"
     ]
    }
   ],
   "source": [
    "#Q.19.Create a Python program that checks if a given year is a century year or not using if-else.\n",
    "# Get the year from the user\n",
    "year = int(input(\"Enter a year: \"))\n",
    "\n",
    "# Check if the year is a century year using if-else statements\n",
    "if year % 100 == 0:\n",
    "    if year % 400 == 0:\n",
    "        print(year, \"is a century year.\")\n",
    "    else:\n",
    "        print(year, \"is not a century year.\")\n",
    "else:\n",
    "    print(year, \"is not a century year.\")"
   ]
  },
  {
   "cell_type": "code",
   "execution_count": 48,
   "id": "91803c20-27b8-4be1-a05c-7046f2ddb29b",
   "metadata": {},
   "outputs": [
    {
     "name": "stdin",
     "output_type": "stream",
     "text": [
      "Enter a number:  45\n"
     ]
    },
    {
     "name": "stdout",
     "output_type": "stream",
     "text": [
      "45 is not a perfect square.\n"
     ]
    }
   ],
   "source": [
    "#Q.20.Write a Python program to determine if a given number is a perfect square using if-else.\n",
    "# Get the number from the user\n",
    "number = int(input(\"Enter a number: \"))\n",
    "\n",
    "# Calculate the square root of the number\n",
    "square_root = number**0.5\n",
    "\n",
    "# Check if the square root is an integer using if-else statements\n",
    "if square_root.is_integer():\n",
    "    print(f\"{number} is a perfect square.\")\n",
    "else:\n",
    "    print(f\"{number} is not a perfect square.\")"
   ]
  },
  {
   "cell_type": "code",
   "execution_count": 49,
   "id": "0f9a97dd-67ec-4692-bbee-efa3cd5a1b71",
   "metadata": {},
   "outputs": [
    {
     "name": "stdout",
     "output_type": "stream",
     "text": [
      "1\n",
      "2\n",
      "4\n",
      "5\n"
     ]
    }
   ],
   "source": [
    "#Q.21.Explain the purpose of the \"continue\" and \"break\" statements within if-else loops.\n",
    "#for continue statement:\n",
    "for i in range(1, 6):\n",
    "    if i == 3:\n",
    "        continue  # Skip iteration 3\n",
    "    print(i)"
   ]
  },
  {
   "cell_type": "code",
   "execution_count": 1,
   "id": "06063eb8-053c-4f6b-950c-b5bcfe60c3ee",
   "metadata": {},
   "outputs": [
    {
     "name": "stdout",
     "output_type": "stream",
     "text": [
      "1\n",
      "2\n"
     ]
    }
   ],
   "source": [
    "#for break statement:\n",
    "for i in range(1, 6):\n",
    "    if i == 3:\n",
    "        break  # Exit the loop when i equals 3\n",
    "    print(i)"
   ]
  },
  {
   "cell_type": "code",
   "execution_count": 2,
   "id": "6a0729ac-6f91-48b5-848b-4c8d9fc32f12",
   "metadata": {},
   "outputs": [
    {
     "name": "stdin",
     "output_type": "stream",
     "text": [
      "Enter your weight in kilograms:  60\n",
      "Enter your height in meters:  1.56\n"
     ]
    },
    {
     "name": "stdout",
     "output_type": "stream",
     "text": [
      "Your BMI is 24.65\n",
      "Category: Normal Weight\n"
     ]
    }
   ],
   "source": [
    "#Q.22.Create a Python program that calculates the BMI (Body Mass Index) of a person based on their weight and height using if-else.\n",
    "# Get the weight and height from the user\n",
    "weight_kg = float(input(\"Enter your weight in kilograms: \"))\n",
    "height_m = float(input(\"Enter your height in meters: \"))\n",
    "\n",
    "# Calculate BMI\n",
    "bmi = weight_kg / (height_m ** 2)\n",
    "\n",
    "# Categorize BMI using if-else statements\n",
    "if bmi < 18.5:\n",
    "    category = \"Underweight\"\n",
    "elif 18.5 <= bmi < 24.9:\n",
    "    category = \"Normal Weight\"\n",
    "elif 25 <= bmi < 29.9:\n",
    "    category = \"Overweight\"\n",
    "else:\n",
    "    category = \"Obese\"\n",
    "\n",
    "# Print BMI and category\n",
    "print(f\"Your BMI is {bmi:.2f}\")\n",
    "print(f\"Category: {category}\")"
   ]
  },
  {
   "cell_type": "code",
   "execution_count": 3,
   "id": "eb75cef6-a8be-4eae-9d2d-ae97d9f4ccb7",
   "metadata": {},
   "outputs": [
    {
     "name": "stdout",
     "output_type": "stream",
     "text": [
      "[2, 4, 6, 8, 10]\n"
     ]
    }
   ],
   "source": [
    "#Q.23.How can you use the \"filter()\" function with if-else statements to filter elements from a list?\n",
    "# Define a list of numbers\n",
    "numbers = [1, 2, 3, 4, 5, 6, 7, 8, 9, 10]\n",
    "\n",
    "# Use filter() with a lambda function to filter even numbers\n",
    "filtered_numbers = list(filter(lambda x: x % 2 == 0, numbers))\n",
    "\n",
    "# Print the filtered numbers\n",
    "print(filtered_numbers)"
   ]
  },
  {
   "cell_type": "code",
   "execution_count": 4,
   "id": "778a5254-fab1-443a-be11-fc226131c503",
   "metadata": {},
   "outputs": [
    {
     "name": "stdin",
     "output_type": "stream",
     "text": [
      "Enter a number:  45\n"
     ]
    },
    {
     "name": "stdout",
     "output_type": "stream",
     "text": [
      "45 is not a prime number.\n"
     ]
    }
   ],
   "source": [
    "#Q.24.Write a Python program to determine if a given number is prime or not using if-else.\n",
    "# Get the number from the user\n",
    "num = int(input(\"Enter a number: \"))\n",
    "\n",
    "# Check if the number is less than 2 (not prime)\n",
    "if num < 2:\n",
    "    is_prime = False\n",
    "else:\n",
    "    is_prime = True\n",
    "    # Check for factors from 2 to the square root of the number\n",
    "    for i in range(2, int(num**0.5) + 1):\n",
    "        if num % i == 0:\n",
    "            is_prime = False\n",
    "            break\n",
    "\n",
    "# Print the result\n",
    "if is_prime:\n",
    "    print(num, \"is a prime number.\")\n",
    "else:\n",
    "    print(num, \"is not a prime number.\")"
   ]
  },
  {
   "cell_type": "code",
   "execution_count": 5,
   "id": "f3afedb5-99f0-4f79-b2e2-80f50c47bb3a",
   "metadata": {},
   "outputs": [],
   "source": [
    "# MAP:"
   ]
  },
  {
   "cell_type": "code",
   "execution_count": 22,
   "id": "2b300491-6eeb-4701-b64f-6530a0253afe",
   "metadata": {},
   "outputs": [
    {
     "name": "stdout",
     "output_type": "stream",
     "text": [
      "[2, 4, 6, 8, 10]\n"
     ]
    }
   ],
   "source": [
    "#Q.1.Explain the purpose of the `map()` function in Python and provide an example of how it can be used to apply a function to each element of an iterable.\n",
    "'''The primary purpose of the map() function is to transform or modify data in an iterable by applying \n",
    "a function to each element without the need for explicit loops. It's a concise and efficient way to perform\n",
    "element-wise operations on an iterable.'''\n",
    "#here a example of 'map()' function:\n",
    "# Define a list of numbers\n",
    "numbers = [1, 2, 3, 4, 5]\n",
    "\n",
    "# Define a custom function to double each number\n",
    "def double(x):\n",
    "    return x * 2\n",
    "\n",
    "# Use map() to apply the double function to each element of the list\n",
    "doubled_numbers = map(double, numbers)\n",
    "\n",
    "# Convert the map object to a list to see the results\n",
    "doubled_numbers_list = list(doubled_numbers)\n",
    "\n",
    "# Print the doubled numbers\n",
    "print(doubled_numbers_list)"
   ]
  },
  {
   "cell_type": "code",
   "execution_count": 23,
   "id": "7a4ef48c-b45f-4998-9ece-a1dbb936983b",
   "metadata": {},
   "outputs": [
    {
     "name": "stdout",
     "output_type": "stream",
     "text": [
      "[1, 4, 9, 16, 25]\n"
     ]
    }
   ],
   "source": [
    "#Q.2.Write a Python program that uses the `map()` function to square each element of a list of numbers.\n",
    "# Define a function to square a number\n",
    "def square(x):\n",
    "    return x**2\n",
    "\n",
    "# Create a list of numbers\n",
    "numbers = [1, 2, 3, 4, 5]\n",
    "\n",
    "# Use map() to apply the square function to each element of the list\n",
    "squared_numbers = map(square, numbers)\n",
    "\n",
    "# Convert the map object to a list to see the results\n",
    "squared_numbers_list = list(squared_numbers)\n",
    "\n",
    "# Print the squared numbers\n",
    "print(squared_numbers_list)"
   ]
  },
  {
   "cell_type": "code",
   "execution_count": 14,
   "id": "f751da45-f3be-4887-aff9-2475f3f7fd1e",
   "metadata": {},
   "outputs": [
    {
     "data": {
      "text/plain": [
       "\"~ map() is used to apply a function to each element of an iterable and returns an iterator. It's \\n    suitable when you want to transform data while keeping the original iterable intact.\\n\\n~ List comprehensions create a new list by specifying both the transformation and the iterable in a \\nsingle line. They are concise and used when you want to create a new list based on existing elements \\nand don't need to preserve the original iterable.\\n\\n~ In general, both map() and list comprehensions are valuable tools for data transformation in Python,\\nand the choice between them depends on the specific requirements of your task and your preference for readability and expressiveness.\""
      ]
     },
     "execution_count": 14,
     "metadata": {},
     "output_type": "execute_result"
    }
   ],
   "source": [
    "#Q.3.How does the `map()` function differ from a list comprehension in Python, and when would you choose one over the other?\n",
    "'''~ map() is used to apply a function to each element of an iterable and returns an iterator. It's \n",
    "    suitable when you want to transform data while keeping the original iterable intact.\n",
    "\n",
    "~ List comprehensions create a new list by specifying both the transformation and the iterable in a \n",
    "single line. They are concise and used when you want to create a new list based on existing elements \n",
    "and don't need to preserve the original iterable.\n",
    "\n",
    "~ In general, both map() and list comprehensions are valuable tools for data transformation in Python,\n",
    "and the choice between them depends on the specific requirements of your task and your preference for readability and expressiveness.'''"
   ]
  },
  {
   "cell_type": "code",
   "execution_count": 15,
   "id": "cb861049-0bce-4ccb-8b1a-f7e877b22843",
   "metadata": {},
   "outputs": [
    {
     "name": "stdout",
     "output_type": "stream",
     "text": [
      "['ALICE', 'BOB', 'CHARLIE', 'DAVID']\n"
     ]
    }
   ],
   "source": [
    "#Q.4.Create a Python program that uses the `map()` function to convert a list of names to uppercase.\n",
    "# Define a list of names\n",
    "names = [\"Alice\", \"Bob\", \"Charlie\", \"David\"]\n",
    "\n",
    "# Use map() to convert names to uppercase\n",
    "uppercase_names = list(map(str.upper, names))\n",
    "\n",
    "# Print the uppercase names\n",
    "print(uppercase_names)"
   ]
  },
  {
   "cell_type": "code",
   "execution_count": 16,
   "id": "9642ed9d-36bb-42f9-b025-d0e598b940de",
   "metadata": {},
   "outputs": [
    {
     "name": "stdout",
     "output_type": "stream",
     "text": [
      "[5, 6, 6, 4]\n"
     ]
    }
   ],
   "source": [
    "#Q.5.Write a Python program that uses the `map()` function to calculate the length of each word in a list of strings.\n",
    "# Define a list of strings\n",
    "words = [\"apple\", \"banana\", \"cherry\", \"date\"]\n",
    "\n",
    "# Use map() with len() to calculate the length of each word\n",
    "word_lengths = list(map(len, words))\n",
    "\n",
    "# Print the lengths of the words\n",
    "print(word_lengths)"
   ]
  },
  {
   "cell_type": "code",
   "execution_count": 17,
   "id": "e637deb9-e196-4bb7-bf97-97b9c0d3623d",
   "metadata": {},
   "outputs": [
    {
     "name": "stdout",
     "output_type": "stream",
     "text": [
      "[6, 8, 10, 12]\n"
     ]
    }
   ],
   "source": [
    "#Q.6.How can you use the `map()` function to apply a custom function to elements of multiple lists simultaneously in Python?\n",
    "# Define two lists\n",
    "list1 = [1, 2, 3, 4]\n",
    "list2 = [5, 6, 7, 8]\n",
    "\n",
    "# Define a custom function to add corresponding elements from two lists\n",
    "def add_elements(x, y):\n",
    "    return x + y\n",
    "\n",
    "# Use map() to apply the custom function to both lists\n",
    "result = list(map(add_elements, list1, list2))\n",
    "\n",
    "# Print the result\n",
    "print(result)"
   ]
  },
  {
   "cell_type": "code",
   "execution_count": 18,
   "id": "41ffc6bd-0e1a-4eec-ace4-2e753d47d3c1",
   "metadata": {},
   "outputs": [
    {
     "name": "stdout",
     "output_type": "stream",
     "text": [
      "[32.0, 50.0, 68.0, 86.0, 104.0]\n"
     ]
    }
   ],
   "source": [
    "#Q.7.Create a Python program that uses `map()` to convert a list of temperatures from Celsius to Fahrenheit.\n",
    "# Define a function to convert Celsius to Fahrenheit\n",
    "def celsius_to_fahrenheit(celsius):\n",
    "    return (celsius * 9/5) + 32\n",
    "\n",
    "# Create a list of temperatures in Celsius\n",
    "celsius_temperatures = [0, 10, 20, 30, 40]\n",
    "\n",
    "# Use map() to convert the Celsius temperatures to Fahrenheit\n",
    "fahrenheit_temperatures = list(map(celsius_to_fahrenheit, celsius_temperatures))\n",
    "\n",
    "# Print the Fahrenheit temperatures\n",
    "print(fahrenheit_temperatures)"
   ]
  },
  {
   "cell_type": "code",
   "execution_count": 19,
   "id": "803631c2-d434-4e40-8cec-2c4251c0c779",
   "metadata": {},
   "outputs": [
    {
     "name": "stdout",
     "output_type": "stream",
     "text": [
      "[2, 3, 3, 5, 5]\n"
     ]
    }
   ],
   "source": [
    "#Q.8.Write a Python program that uses the `map()` function to round each element of a list of floating-point numbers to the nearest integer.\n",
    "# Create a list of floating-point numbers\n",
    "float_numbers = [1.5, 2.7, 3.3, 4.8, 5.2]\n",
    "\n",
    "# Use map() with round() to round each number to the nearest integer\n",
    "rounded_numbers = list(map(round, float_numbers))\n",
    "\n",
    "# Print the rounded numbers\n",
    "print(rounded_numbers)"
   ]
  },
  {
   "cell_type": "code",
   "execution_count": 20,
   "id": "953127f0-bd2b-4177-86de-9ff219336dea",
   "metadata": {},
   "outputs": [],
   "source": [
    "# REDUCE:"
   ]
  },
  {
   "cell_type": "code",
   "execution_count": 27,
   "id": "d3652136-49c0-4cb5-be86-13419eafffab",
   "metadata": {},
   "outputs": [
    {
     "name": "stdout",
     "output_type": "stream",
     "text": [
      "15\n"
     ]
    }
   ],
   "source": [
    "#Q.1.What is the `reduce()` function in Python, and what module should you import to use it? Provide an example of its basic usage.\n",
    "'''The reduce() function in Python is used to repeatedly apply a specified binary function \n",
    "(a function that takes two arguments) to the elements of an iterable (e.g., a list or tuple)\n",
    "from left to right, reducing it to a single accumulated value. To use the reduce() function, \n",
    "you need to import it from the functools module.'''\n",
    "\n",
    "#Here's the basic syntax of the reduce() function:\n",
    "\n",
    "'''functools.reduce(function, iterable, initializer=None)'''\n",
    "\n",
    "import functools\n",
    "\n",
    "# Define a list of numbers\n",
    "numbers = [1, 2, 3, 4, 5]\n",
    "\n",
    "# Define a custom function to add two numbers\n",
    "def add(x, y):\n",
    "    return x + y\n",
    "\n",
    "# Use reduce() to find the sum of all numbers in the list\n",
    "sum_of_numbers = functools.reduce(add, numbers)\n",
    "\n",
    "# Print the sum\n",
    "print(sum_of_numbers)"
   ]
  },
  {
   "cell_type": "code",
   "execution_count": 28,
   "id": "a6b003a5-8682-46c5-a703-eb8378b8d8d5",
   "metadata": {},
   "outputs": [
    {
     "name": "stdout",
     "output_type": "stream",
     "text": [
      "120\n"
     ]
    }
   ],
   "source": [
    "#Q.2.Write a Python program that uses the `reduce()` function to find the product of all elements in a list.\n",
    "import functools\n",
    "\n",
    "# Define a list of numbers\n",
    "numbers = [1, 2, 3, 4, 5]\n",
    "\n",
    "# Define a custom function to multiply two numbers\n",
    "def multiply(x, y):\n",
    "    return x * y\n",
    "\n",
    "# Use reduce() to find the product of all numbers in the list\n",
    "product_of_numbers = functools.reduce(multiply, numbers)\n",
    "\n",
    "# Print the product\n",
    "print(product_of_numbers)"
   ]
  },
  {
   "cell_type": "code",
   "execution_count": 29,
   "id": "a0ba71c2-1fd1-4ca3-abd3-16fcd36d1414",
   "metadata": {},
   "outputs": [
    {
     "name": "stdout",
     "output_type": "stream",
     "text": [
      "9\n"
     ]
    }
   ],
   "source": [
    "#Q.3.Create a Python program that uses `reduce()` to find the maximum element in a list of numbers.\n",
    "import functools\n",
    "\n",
    "# Define a list of numbers\n",
    "numbers = [5, 2, 8, 1, 9, 4]\n",
    "\n",
    "# Define a custom function to find the maximum of two numbers\n",
    "def find_max(x, y):\n",
    "    return max(x, y)\n",
    "\n",
    "# Use reduce() to find the maximum element in the list\n",
    "max_number = functools.reduce(find_max, numbers)\n",
    "\n",
    "# Print the maximum number\n",
    "print(max_number)"
   ]
  },
  {
   "cell_type": "code",
   "execution_count": 30,
   "id": "775d7d44-9650-4250-9b8c-10c74e56d878",
   "metadata": {},
   "outputs": [
    {
     "name": "stdout",
     "output_type": "stream",
     "text": [
      "Hello world!\n"
     ]
    }
   ],
   "source": [
    "#Q.4.How can you use the `reduce()` function to concatenate a list of strings into a single string?\n",
    "import functools\n",
    "\n",
    "# Define a list of strings\n",
    "strings = [\"Hello\", \" \", \"world\", \"!\"]\n",
    "\n",
    "# Define a custom function to concatenate two strings\n",
    "def concatenate_strings(x, y):\n",
    "    return x + y\n",
    "\n",
    "# Use reduce() to concatenate the list of strings into a single string\n",
    "concatenated_string = functools.reduce(concatenate_strings, strings)\n",
    "\n",
    "# Print the concatenated string\n",
    "print(concatenated_string)"
   ]
  },
  {
   "cell_type": "code",
   "execution_count": 31,
   "id": "36d24be8-44c9-4091-aa47-9d29f3a18333",
   "metadata": {},
   "outputs": [
    {
     "name": "stdin",
     "output_type": "stream",
     "text": [
      "Enter a non-negative integer:  5\n"
     ]
    },
    {
     "name": "stdout",
     "output_type": "stream",
     "text": [
      "The factorial of 5 is 120\n"
     ]
    }
   ],
   "source": [
    "#Q.5.Write a Python program that calculates the factorial of a number using the `reduce()` function.\n",
    "import functools\n",
    "\n",
    "# Define a custom function to compute the product of two numbers\n",
    "def multiply(x, y):\n",
    "    return x * y\n",
    "\n",
    "# Function to calculate factorial using reduce()\n",
    "def factorial(n):\n",
    "    if n == 0:\n",
    "        return 1\n",
    "    else:\n",
    "        return functools.reduce(multiply, range(1, n+1))\n",
    "\n",
    "# Input: Get a number from the user\n",
    "n = int(input(\"Enter a non-negative integer: \"))\n",
    "\n",
    "# Check if the input is non-negative\n",
    "if n < 0:\n",
    "    print(\"Factorial is not defined for negative numbers.\")\n",
    "else:\n",
    "    result = factorial(n)\n",
    "    print(f\"The factorial of {n} is {result}\")"
   ]
  },
  {
   "cell_type": "code",
   "execution_count": 32,
   "id": "122effe1-6785-476e-90ac-bed3d682d678",
   "metadata": {},
   "outputs": [
    {
     "name": "stdout",
     "output_type": "stream",
     "text": [
      "The GCD of the numbers [12, 18, 24, 36] is 6\n"
     ]
    }
   ],
   "source": [
    "#Q.6.Create a Python program that uses `reduce()` to find the GCD (Greatest Common Divisor) of a list of numbers.\n",
    "import functools\n",
    "import math\n",
    "\n",
    "# Define a custom function to compute the GCD of two numbers\n",
    "def compute_gcd(x, y):\n",
    "    return math.gcd(x, y)\n",
    "\n",
    "# List of numbers for which we want to find the GCD\n",
    "numbers = [12, 18, 24, 36]\n",
    "\n",
    "# Use reduce() to find the GCD of the list of numbers\n",
    "gcd_result = functools.reduce(compute_gcd, numbers)\n",
    "\n",
    "# Print the GCD\n",
    "print(f\"The GCD of the numbers {numbers} is {gcd_result}\")"
   ]
  },
  {
   "cell_type": "code",
   "execution_count": 33,
   "id": "57676232-e2a1-4e28-86ed-ee4d346682fa",
   "metadata": {},
   "outputs": [
    {
     "name": "stdin",
     "output_type": "stream",
     "text": [
      "Enter a number:  56\n"
     ]
    },
    {
     "name": "stdout",
     "output_type": "stream",
     "text": [
      "The sum of digits of 56 is 11\n"
     ]
    }
   ],
   "source": [
    "#Q.7.Write a Python program that uses the `reduce()` function to find the sum of the digits of a given number.\n",
    "import functools\n",
    "\n",
    "# Define a custom function to add two numbers\n",
    "def add(x, y):\n",
    "    return x + y\n",
    "\n",
    "# Function to calculate the sum of digits using reduce()\n",
    "def sum_of_digits(number):\n",
    "    # Convert the number to a list of its digits as integers\n",
    "    digits = [int(digit) for digit in str(number)]\n",
    "    return functools.reduce(add, digits)\n",
    "\n",
    "# Input: Get a number from the user\n",
    "number = int(input(\"Enter a number: \"))\n",
    "\n",
    "# Calculate the sum of digits using the sum_of_digits function\n",
    "digit_sum = sum_of_digits(number)\n",
    "\n",
    "# Print the sum of digits\n",
    "print(f\"The sum of digits of {number} is {digit_sum}\")"
   ]
  },
  {
   "cell_type": "code",
   "execution_count": 34,
   "id": "e736eec0-1d4d-4187-9ec5-7240e7a13ec3",
   "metadata": {},
   "outputs": [],
   "source": [
    "# FILTER"
   ]
  },
  {
   "cell_type": "code",
   "execution_count": 35,
   "id": "d2fafdfb-7101-427d-9147-ea17064134d7",
   "metadata": {},
   "outputs": [
    {
     "name": "stdout",
     "output_type": "stream",
     "text": [
      "['banana', 'cherry', 'elderberry']\n"
     ]
    }
   ],
   "source": [
    "#Q.1.Explain the purpose of the `filter()` function in Python and provide an example of how it can be used to filter elements from an iterable.\n",
    "'''The filter() function in Python is used to filter elements from an iterable\n",
    "(e.g., a list, tuple, or other iterable) based on a specified filtering condition or function.\n",
    "It returns an iterator containing only the elements that satisfy the given condition. The purpose of the\n",
    "filter() function is to extract a subset of elements from the original iterable that meet certain criteria.'''\n",
    "\n",
    "#Here's the basic syntax of the filter() function:\n",
    "'''filter(function, iterable)'''\n",
    "\n",
    "# Define a list of strings\n",
    "words = [\"apple\", \"banana\", \"cherry\", \"date\", \"elderberry\", \"fig\", \"grape\"]\n",
    "\n",
    "# Define a custom function to filter words with length > 5\n",
    "def is_long_word(word):\n",
    "    return len(word) > 5\n",
    "\n",
    "# Use filter() to filter long words from the list\n",
    "long_words = filter(is_long_word, words)\n",
    "\n",
    "# Convert the filter object to a list to see the results\n",
    "long_words_list = list(long_words)\n",
    "\n",
    "# Print the filtered long words\n",
    "print(long_words_list)"
   ]
  },
  {
   "cell_type": "code",
   "execution_count": 36,
   "id": "d27047d6-d269-43cb-8934-d1048ed1aa6e",
   "metadata": {},
   "outputs": [
    {
     "name": "stdout",
     "output_type": "stream",
     "text": [
      "[2, 4, 6, 8, 10]\n"
     ]
    }
   ],
   "source": [
    "#Q.2.Write a Python program that uses the `filter()` function to select even numbers from a list of integers.\n",
    "# Define a list of numbers\n",
    "numbers = [1, 2, 3, 4, 5, 6, 7, 8, 9, 10]\n",
    "\n",
    "# Define a custom function to filter even numbers\n",
    "def is_even(x):\n",
    "    return x % 2 == 0\n",
    "\n",
    "# Use filter() to filter even numbers from the list\n",
    "even_numbers = filter(is_even, numbers)\n",
    "\n",
    "# Convert the filter object to a list to see the results\n",
    "even_numbers_list = list(even_numbers)\n",
    "\n",
    "# Print the filtered even numbers\n",
    "print(even_numbers_list)"
   ]
  },
  {
   "cell_type": "code",
   "execution_count": 37,
   "id": "464c9ae8-93d1-4fab-9671-d38b1de6d99e",
   "metadata": {},
   "outputs": [
    {
     "name": "stdout",
     "output_type": "stream",
     "text": [
      "Names that start with 'D':\n",
      "David\n"
     ]
    }
   ],
   "source": [
    "#Q.3.Create a Python program that uses the `filter()` function to select names that start with a specific letter from a list of strings.\n",
    "# Define a list of names\n",
    "names = [\"Alice\", \"Bob\", \"Charlie\", \"David\", \"Ella\", \"Frank\", \"Grace\"]\n",
    "\n",
    "# Define the specific letter to filter names\n",
    "start_letter = \"D\"\n",
    "\n",
    "# Define a custom function to filter names that start with the specified letter\n",
    "def starts_with_letter(name):\n",
    "    return name.startswith(start_letter)\n",
    "\n",
    "# Use filter() to filter names that start with the specified letter\n",
    "filtered_names = filter(starts_with_letter, names)\n",
    "\n",
    "# Convert the filter object to a list to see the results\n",
    "filtered_names_list = list(filtered_names)\n",
    "\n",
    "# Print the filtered names\n",
    "print(f\"Names that start with '{start_letter}':\")\n",
    "for name in filtered_names_list:\n",
    "    print(name)"
   ]
  },
  {
   "cell_type": "code",
   "execution_count": 38,
   "id": "c10557bd-7e82-4d70-91a9-d9cb1b6f7a34",
   "metadata": {},
   "outputs": [
    {
     "name": "stdout",
     "output_type": "stream",
     "text": [
      "Prime numbers in the list: [2, 3, 5, 7, 11]\n"
     ]
    }
   ],
   "source": [
    "#Q.4.Write a Python program that uses the `filter()` function to select prime numbers from a list of integers.\n",
    "# Define a list of integers\n",
    "numbers = [2, 3, 4, 5, 6, 7, 8, 9, 10, 11]\n",
    "\n",
    "# Define a custom function to check if a number is prime\n",
    "def is_prime(n):\n",
    "    if n <= 1:\n",
    "        return False\n",
    "    elif n <= 3:\n",
    "        return True\n",
    "    elif n % 2 == 0 or n % 3 == 0:\n",
    "        return False\n",
    "    i = 5\n",
    "    while i * i <= n:\n",
    "        if n % i == 0 or n % (i + 2) == 0:\n",
    "            return False\n",
    "        i += 6\n",
    "    return True\n",
    "\n",
    "# Use filter() to filter prime numbers from the list\n",
    "prime_numbers = filter(is_prime, numbers)\n",
    "\n",
    "# Convert the filter object to a list to see the results\n",
    "prime_numbers_list = list(prime_numbers)\n",
    "\n",
    "# Print the filtered prime numbers\n",
    "print(\"Prime numbers in the list:\", prime_numbers_list)"
   ]
  },
  {
   "cell_type": "code",
   "execution_count": 39,
   "id": "9e122d25-8e21-45ef-a5bf-e2d9f51f2b2d",
   "metadata": {},
   "outputs": [
    {
     "name": "stdout",
     "output_type": "stream",
     "text": [
      "List with None values removed: [1, 3, 5, 7]\n"
     ]
    }
   ],
   "source": [
    "#Q.5.How can you use the `filter()` function to remove None values from a list in Python?\n",
    "# Define a list with None values\n",
    "data = [1, None, 3, None, 5, None, 7, None]\n",
    "\n",
    "# Define a custom function to filter out None values\n",
    "def remove_none(value):\n",
    "    return value is not None\n",
    "\n",
    "# Use filter() to remove None values from the list\n",
    "filtered_data = filter(remove_none, data)\n",
    "\n",
    "# Convert the filter object to a list to see the results\n",
    "filtered_data_list = list(filtered_data)\n",
    "\n",
    "# Print the list with None values removed\n",
    "print(\"List with None values removed:\", filtered_data_list)"
   ]
  },
  {
   "cell_type": "code",
   "execution_count": 40,
   "id": "c64dd399-863f-4a96-a59b-e96550e79fed",
   "metadata": {},
   "outputs": [
    {
     "name": "stdout",
     "output_type": "stream",
     "text": [
      "Words longer than 5 characters:\n",
      "banana\n",
      "cherry\n",
      "elderberry\n"
     ]
    }
   ],
   "source": [
    "#Q.6.Create a Python program that uses `filter()` to select words longer than a certain length from a list of strings.\n",
    "# Define a list of strings\n",
    "words = [\"apple\", \"banana\", \"cherry\", \"date\", \"elderberry\", \"fig\", \"grape\"]\n",
    "\n",
    "# Define the minimum length for words to be selected\n",
    "min_length = 5\n",
    "\n",
    "# Define a custom function to filter words longer than a certain length\n",
    "def is_long_word(word):\n",
    "    return len(word) > min_length\n",
    "\n",
    "# Use filter() to select long words from the list\n",
    "long_words = filter(is_long_word, words)\n",
    "\n",
    "# Convert the filter object to a list to see the results\n",
    "long_words_list = list(long_words)\n",
    "\n",
    "# Print the selected long words\n",
    "print(f\"Words longer than {min_length} characters:\")\n",
    "for word in long_words_list:\n",
    "    print(word)"
   ]
  },
  {
   "cell_type": "code",
   "execution_count": 41,
   "id": "403c588c-6d13-433d-8006-9d00c652a240",
   "metadata": {},
   "outputs": [
    {
     "name": "stdout",
     "output_type": "stream",
     "text": [
      "Values greater than 10:\n",
      "12\n",
      "18\n",
      "24\n",
      "15\n"
     ]
    }
   ],
   "source": [
    "#Q.7.Write a Python program that uses the `filter()` function to select elements greater than a specified threshold from a list of values.\n",
    "# Define a list of values\n",
    "values = [12, 5, 18, 7, 24, 3, 15, 10]\n",
    "\n",
    "# Define the threshold value\n",
    "threshold = 10\n",
    "\n",
    "# Define a custom function to filter values greater than the threshold\n",
    "def greater_than_threshold(value):\n",
    "    return value > threshold\n",
    "\n",
    "# Use filter() to select values greater than the threshold\n",
    "selected_values = filter(greater_than_threshold, values)\n",
    "\n",
    "# Convert the filter object to a list to see the results\n",
    "selected_values_list = list(selected_values)\n",
    "\n",
    "# Print the selected values\n",
    "print(f\"Values greater than {threshold}:\")\n",
    "for value in selected_values_list:\n",
    "    print(value)"
   ]
  },
  {
   "cell_type": "code",
   "execution_count": 42,
   "id": "08e1770e-2cb5-42bb-939d-faeff6e75e54",
   "metadata": {},
   "outputs": [],
   "source": [
    "# RECURSION:"
   ]
  },
  {
   "cell_type": "code",
   "execution_count": 43,
   "id": "382a35cb-1e07-4c2b-9c5f-a3a518da9465",
   "metadata": {},
   "outputs": [
    {
     "data": {
      "text/plain": [
       "'A recursive function calls itself to solve smaller subproblems while Iteration involves using loops \\n(e.g., for or while loops) to repeatedly execute a block of code until a certain condition is met.'"
      ]
     },
     "execution_count": 43,
     "metadata": {},
     "output_type": "execute_result"
    }
   ],
   "source": [
    "#Q.1.Explain the concept of recursion in Python. How does it differ from iteration?\n",
    "'''Recursion is a programming technique in which a function calls itself to solve a problem. In\n",
    "Python, as in many programming languages, functions can be defined in a recursive manner. Recursion is\n",
    "based on the idea of breaking down a complex problem into simpler, similar subproblems until you reach a\n",
    "base case that can be directly solved.'''\n",
    "\n",
    "#its differ from iteration:\n",
    "'''A recursive function calls itself to solve smaller subproblems while Iteration involves using loops \n",
    "(e.g., for or while loops) to repeatedly execute a block of code until a certain condition is met.'''"
   ]
  },
  {
   "cell_type": "code",
   "execution_count": 44,
   "id": "ca0ea146-9e28-496c-b8c4-e2ede4e250e4",
   "metadata": {},
   "outputs": [
    {
     "name": "stdin",
     "output_type": "stream",
     "text": [
      "Enter a non-negative integer:  67\n"
     ]
    },
    {
     "name": "stdout",
     "output_type": "stream",
     "text": [
      "The factorial of 67 is 36471110918188685288249859096605464427167635314049524593701628500267962436943872000000000000000\n"
     ]
    }
   ],
   "source": [
    "#Q.2.Write a Python program to calculate the factorial of a number using recursion.\n",
    "def factorial(n):\n",
    "    # Base case: If n is 0 or 1, return 1\n",
    "    if n == 0 or n == 1:\n",
    "        return 1\n",
    "    # Recursive case: Compute n * factorial(n-1)\n",
    "    else:\n",
    "        return n * factorial(n - 1)\n",
    "\n",
    "# Input: Get a number from the user\n",
    "n = int(input(\"Enter a non-negative integer: \"))\n",
    "\n",
    "# Check if the input is non-negative\n",
    "if n < 0:\n",
    "    print(\"Factorial is not defined for negative numbers.\")\n",
    "else:\n",
    "    result = factorial(n)\n",
    "    print(f\"The factorial of {n} is {result}\")"
   ]
  },
  {
   "cell_type": "code",
   "execution_count": 45,
   "id": "394f4035-ec22-4b68-85e6-7d0afd9c0951",
   "metadata": {},
   "outputs": [
    {
     "name": "stdin",
     "output_type": "stream",
     "text": [
      "Enter a non-negative integer n:  5\n"
     ]
    },
    {
     "name": "stdout",
     "output_type": "stream",
     "text": [
      "The 5-th Fibonacci number is 5\n"
     ]
    }
   ],
   "source": [
    "#Q.3.Create a recursive Python function to find the nth Fibonacci number.\n",
    "def fibonacci(n):\n",
    "    # Base case: If n is 0 or 1, return n\n",
    "    if n == 0:\n",
    "        return 0\n",
    "    elif n == 1:\n",
    "        return 1\n",
    "    # Recursive case: Compute Fibonacci(n) = Fibonacci(n-1) + Fibonacci(n-2)\n",
    "    else:\n",
    "        return fibonacci(n - 1) + fibonacci(n - 2)\n",
    "\n",
    "# Input: Get the value of n from the user\n",
    "n = int(input(\"Enter a non-negative integer n: \"))\n",
    "\n",
    "# Check if the input is non-negative\n",
    "if n < 0:\n",
    "    print(\"Please enter a non-negative integer.\")\n",
    "else:\n",
    "    result = fibonacci(n)\n",
    "    print(f\"The {n}-th Fibonacci number is {result}\")"
   ]
  },
  {
   "cell_type": "code",
   "execution_count": 46,
   "id": "b80144be-4709-4004-9154-be995072a33b",
   "metadata": {},
   "outputs": [
    {
     "name": "stdin",
     "output_type": "stream",
     "text": [
      "Enter a list of numbers separated by spaces:  1 2 3 4 5 6\n"
     ]
    },
    {
     "name": "stdout",
     "output_type": "stream",
     "text": [
      "The sum of the numbers is 21\n"
     ]
    }
   ],
   "source": [
    "#Q.4.Write a recursive Python function to calculate the sum of all elements in a list.\n",
    "def recursive_sum(arr):\n",
    "    # Base case: If the list is empty, the sum is 0\n",
    "    if not arr:\n",
    "        return 0\n",
    "    # Recursive case: Sum the first element and the sum of the rest of the list\n",
    "    else:\n",
    "        return arr[0] + recursive_sum(arr[1:])\n",
    "\n",
    "# Input: Get a list of numbers from the user\n",
    "numbers = input(\"Enter a list of numbers separated by spaces: \").split()\n",
    "numbers = [int(num) for num in numbers]\n",
    "\n",
    "# Calculate the sum using the recursive function\n",
    "total_sum = recursive_sum(numbers)\n",
    "\n",
    "# Print the sum\n",
    "print(f\"The sum of the numbers is {total_sum}\")"
   ]
  },
  {
   "cell_type": "code",
   "execution_count": 47,
   "id": "70b564e1-88fe-4931-a5ee-81c8925ce654",
   "metadata": {},
   "outputs": [],
   "source": [
    "#Q.5.How can you prevent a recursive function from running indefinitely, causing a stack overflow error?\n",
    "'''Preventing a recursive function from running indefinitely and causing a stack overflow error involves implementing \n",
    "proper termination conditions and ensuring that the recursion eventually reaches these termination conditions.'''\n",
    "\n",
    "#here's an example:\n",
    "def factorial(n):\n",
    "    # Base case 1: If n is 0, return 1\n",
    "    if n == 0:\n",
    "        return 1\n",
    "    # Base case 2: If n is 1, return 1\n",
    "    elif n == 1:\n",
    "        return 1\n",
    "    # Recursive case: Compute n * factorial(n-1)\n",
    "    else:\n",
    "        return n * factorial(n - 1)"
   ]
  },
  {
   "cell_type": "code",
   "execution_count": 48,
   "id": "c034e616-4317-4d26-96d3-9038c6f9174b",
   "metadata": {},
   "outputs": [
    {
     "name": "stdin",
     "output_type": "stream",
     "text": [
      "Enter the first integer:  4\n",
      "Enter the second integer:  6\n"
     ]
    },
    {
     "name": "stdout",
     "output_type": "stream",
     "text": [
      "The GCD of 4 and 6 is 2\n"
     ]
    }
   ],
   "source": [
    "#Q.6.Create a recursive Python function to find the greatest common divisor (GCD) of two numbers using the Euclidean algorithm.\n",
    "def gcd(a, b):\n",
    "    # Base case: If b is 0, the GCD is a\n",
    "    if b == 0:\n",
    "        return a\n",
    "    # Recursive case: Compute the GCD of b and the remainder of a divided by b\n",
    "    else:\n",
    "        return gcd(b, a % b)\n",
    "\n",
    "# Input: Get two integers from the user\n",
    "a = int(input(\"Enter the first integer: \"))\n",
    "b = int(input(\"Enter the second integer: \"))\n",
    "\n",
    "# Calculate the GCD using the recursive function\n",
    "result = gcd(a, b)\n",
    "\n",
    "# Print the GCD\n",
    "print(f\"The GCD of {a} and {b} is {result}\")"
   ]
  },
  {
   "cell_type": "code",
   "execution_count": 49,
   "id": "5bd07cfd-6808-4a44-8b12-a4d1aa2b5048",
   "metadata": {},
   "outputs": [
    {
     "name": "stdin",
     "output_type": "stream",
     "text": [
      "Enter a string:  'money is everything in this new modern era'\n"
     ]
    },
    {
     "name": "stdout",
     "output_type": "stream",
     "text": [
      "The reversed string is: 'are nredom wen siht ni gnihtyreve si yenom'\n"
     ]
    }
   ],
   "source": [
    "#Q.7.Write a recursive Python function to reverse a string.\n",
    "def reverse_string(input_str):\n",
    "    # Base case: If the string is empty or has only one character, return it\n",
    "    if len(input_str) <= 1:\n",
    "        return input_str\n",
    "    # Recursive case: Reverse the string excluding the first character, and append the first character at the end\n",
    "    else:\n",
    "        return reverse_string(input_str[1:]) + input_str[0]\n",
    "\n",
    "# Input: Get a string from the user\n",
    "input_str = input(\"Enter a string: \")\n",
    "\n",
    "# Reverse the string using the recursive function\n",
    "reversed_str = reverse_string(input_str)\n",
    "\n",
    "# Print the reversed string\n",
    "print(f\"The reversed string is: {reversed_str}\")"
   ]
  },
  {
   "cell_type": "code",
   "execution_count": 50,
   "id": "252b5723-b99a-4e20-8637-c494a6555b0d",
   "metadata": {},
   "outputs": [
    {
     "name": "stdin",
     "output_type": "stream",
     "text": [
      "Enter the base (x):  6\n",
      "Enter the exponent (n):  7\n"
     ]
    },
    {
     "name": "stdout",
     "output_type": "stream",
     "text": [
      "6.0^7 is equal to 279936.0\n"
     ]
    }
   ],
   "source": [
    "#Q.8.Create a recursive Python function to calculate the power of a number (x^n).\n",
    "def power(x, n):\n",
    "    # Base case: If n is 0, return 1 (x^0 is always 1)\n",
    "    if n == 0:\n",
    "        return 1\n",
    "    # Base case: If n is 1, return x\n",
    "    elif n == 1:\n",
    "        return x\n",
    "    # Recursive case: Compute x^n as (x^(n//2))^2 if n is even, or (x^(n//2))^2 * x if n is odd\n",
    "    else:\n",
    "        if n % 2 == 0:\n",
    "            half_power = power(x, n // 2)\n",
    "            return half_power * half_power\n",
    "        else:\n",
    "            half_power = power(x, n // 2)\n",
    "            return half_power * half_power * x\n",
    "\n",
    "# Input: Get the base (x) and exponent (n) from the user\n",
    "x = float(input(\"Enter the base (x): \"))\n",
    "n = int(input(\"Enter the exponent (n): \"))\n",
    "\n",
    "# Calculate x^n using the recursive function\n",
    "result = power(x, n)\n",
    "\n",
    "# Print the result\n",
    "print(f\"{x}^{n} is equal to {result}\")"
   ]
  },
  {
   "cell_type": "code",
   "execution_count": 1,
   "id": "bfdc4c83-1c70-44f1-9072-a00c53cdef76",
   "metadata": {},
   "outputs": [
    {
     "name": "stdin",
     "output_type": "stream",
     "text": [
      "Enter a string:  level\n"
     ]
    },
    {
     "name": "stdout",
     "output_type": "stream",
     "text": [
      "All permutations of 'level':\n",
      "level\n",
      "levle\n",
      "leevl\n",
      "leelv\n",
      "lelve\n",
      "lelev\n",
      "lveel\n",
      "lvele\n",
      "lveel\n",
      "lvele\n",
      "lvlee\n",
      "lvlee\n",
      "leevl\n",
      "leelv\n",
      "level\n",
      "levle\n",
      "lelev\n",
      "lelve\n",
      "lleve\n",
      "lleev\n",
      "llvee\n",
      "llvee\n",
      "lleev\n",
      "lleve\n",
      "elvel\n",
      "elvle\n",
      "elevl\n",
      "elelv\n",
      "ellve\n",
      "ellev\n",
      "evlel\n",
      "evlle\n",
      "evell\n",
      "evell\n",
      "evlle\n",
      "evlel\n",
      "eelvl\n",
      "eellv\n",
      "eevll\n",
      "eevll\n",
      "eellv\n",
      "eelvl\n",
      "ellve\n",
      "ellev\n",
      "elvle\n",
      "elvel\n",
      "elelv\n",
      "elevl\n",
      "vleel\n",
      "vlele\n",
      "vleel\n",
      "vlele\n",
      "vllee\n",
      "vllee\n",
      "velel\n",
      "velle\n",
      "veell\n",
      "veell\n",
      "velle\n",
      "velel\n",
      "velel\n",
      "velle\n",
      "veell\n",
      "veell\n",
      "velle\n",
      "velel\n",
      "vllee\n",
      "vllee\n",
      "vlele\n",
      "vleel\n",
      "vlele\n",
      "vleel\n",
      "elevl\n",
      "elelv\n",
      "elvel\n",
      "elvle\n",
      "ellev\n",
      "ellve\n",
      "eelvl\n",
      "eellv\n",
      "eevll\n",
      "eevll\n",
      "eellv\n",
      "eelvl\n",
      "evlel\n",
      "evlle\n",
      "evell\n",
      "evell\n",
      "evlle\n",
      "evlel\n",
      "ellev\n",
      "ellve\n",
      "elelv\n",
      "elevl\n",
      "elvle\n",
      "elvel\n",
      "lleve\n",
      "lleev\n",
      "llvee\n",
      "llvee\n",
      "lleev\n",
      "lleve\n",
      "lelve\n",
      "lelev\n",
      "levle\n",
      "level\n",
      "leelv\n",
      "leevl\n",
      "lvlee\n",
      "lvlee\n",
      "lvele\n",
      "lveel\n",
      "lvele\n",
      "lveel\n",
      "lelev\n",
      "lelve\n",
      "leelv\n",
      "leevl\n",
      "levle\n",
      "level\n"
     ]
    }
   ],
   "source": [
    "#Q.9.Write a recursive Python function to find all permutations of a given string.\n",
    "def get_permutations(input_str):\n",
    "    # Base case: If the string has only one character or is empty, return it as a single permutation\n",
    "    if len(input_str) <= 1:\n",
    "        return [input_str]\n",
    "\n",
    "    # Recursive case:\n",
    "    # 1. For each character in the string, remove it and find permutations of the remaining characters.\n",
    "    # 2. Insert the removed character at every possible position in each of the permutations obtained in step 1.\n",
    "    permutations = []\n",
    "    for i in range(len(input_str)):\n",
    "        first_char = input_str[i]\n",
    "        remaining_chars = input_str[:i] + input_str[i+1:]\n",
    "        for perm in get_permutations(remaining_chars):\n",
    "            permutations.append(first_char + perm)\n",
    "\n",
    "    return permutations\n",
    "\n",
    "# Input: Get a string from the user\n",
    "input_str = input(\"Enter a string: \")\n",
    "\n",
    "# Find all permutations using the recursive function\n",
    "all_permutations = get_permutations(input_str)\n",
    "\n",
    "# Print the permutations\n",
    "print(f\"All permutations of '{input_str}':\")\n",
    "for perm in all_permutations:\n",
    "    print(perm)"
   ]
  },
  {
   "cell_type": "code",
   "execution_count": 2,
   "id": "fb1564e9-a1ff-4d2a-800c-b5e06c22136f",
   "metadata": {},
   "outputs": [
    {
     "name": "stdin",
     "output_type": "stream",
     "text": [
      "Enter a string:  we are humans\n"
     ]
    },
    {
     "name": "stdout",
     "output_type": "stream",
     "text": [
      "'we are humans' is not a palindrome.\n"
     ]
    }
   ],
   "source": [
    "#Q.10.Write a recursive Python function to check if a string is a palindrome.\n",
    "def is_palindrome(input_str):\n",
    "    # Base case: If the string has zero or one character, it's a palindrome\n",
    "    if len(input_str) <= 1:\n",
    "        return True\n",
    "\n",
    "    # Check if the first and last characters are the same\n",
    "    if input_str[0] != input_str[-1]:\n",
    "        return False\n",
    "\n",
    "    # Recursive case: Check if the substring without the first and last characters is a palindrome\n",
    "    return is_palindrome(input_str[1:-1])\n",
    "\n",
    "# Input: Get a string from the user\n",
    "input_str = input(\"Enter a string: \")\n",
    "\n",
    "# Check if the input string is a palindrome using the recursive function\n",
    "if is_palindrome(input_str):\n",
    "    print(f\"'{input_str}' is a palindrome.\")\n",
    "else:\n",
    "    print(f\"'{input_str}' is not a palindrome.\")"
   ]
  },
  {
   "cell_type": "code",
   "execution_count": 3,
   "id": "788b961b-18fd-404d-8b7e-3b7b303ea96f",
   "metadata": {},
   "outputs": [
    {
     "name": "stdin",
     "output_type": "stream",
     "text": [
      "Enter a list of elements separated by spaces:  1 2 3 4 56 \n",
      "Enter the combination size (k):  2\n"
     ]
    },
    {
     "name": "stdout",
     "output_type": "stream",
     "text": [
      "All combinations of size 2:\n",
      "['4', '56']\n",
      "['3', '56']\n",
      "['3', '4']\n",
      "['2', '56']\n",
      "['2', '4']\n",
      "['2', '3']\n",
      "['1', '56']\n",
      "['1', '4']\n",
      "['1', '3']\n",
      "['1', '2']\n"
     ]
    }
   ],
   "source": [
    "#Q.11.Create a recursive Python function to generate all possible combinations of a list of elements.\n",
    "def generate_combinations(elements, k):\n",
    "    # Base case: If k is 0, return an empty list (no elements to select)\n",
    "    if k == 0:\n",
    "        return [[]]\n",
    "\n",
    "    # Base case: If k is greater than the number of elements, return the original list\n",
    "    if k >= len(elements):\n",
    "        return [elements]\n",
    "\n",
    "    # Recursive case:\n",
    "    # 1. Generate combinations without the first element\n",
    "    without_first = generate_combinations(elements[1:], k)\n",
    "\n",
    "    # 2. Generate combinations including the first element by selecting it\n",
    "    with_first = generate_combinations(elements[1:], k - 1)\n",
    "    with_first = [[elements[0]] + combo for combo in with_first]\n",
    "\n",
    "    # Combine both sets of combinations\n",
    "    return without_first + with_first\n",
    "\n",
    "# Input: Get a list of elements from the user\n",
    "elements = input(\"Enter a list of elements separated by spaces: \").split()\n",
    "\n",
    "# Input: Get the desired combination size (k) from the user\n",
    "k = int(input(\"Enter the combination size (k): \"))\n",
    "\n",
    "# Generate all combinations using the recursive function\n",
    "combinations = generate_combinations(elements, k)\n",
    "\n",
    "# Print the combinations\n",
    "print(f\"All combinations of size {k}:\")\n",
    "for combo in combinations:\n",
    "    print(combo)"
   ]
  },
  {
   "cell_type": "code",
   "execution_count": 4,
   "id": "80c60742-a9be-492d-bef1-ac8fcbd8330b",
   "metadata": {},
   "outputs": [],
   "source": [
    "# BASICS OF FUNCTION:"
   ]
  },
  {
   "cell_type": "code",
   "execution_count": 5,
   "id": "af5a49cb-1f13-432a-9bc0-331859e5190a",
   "metadata": {},
   "outputs": [
    {
     "name": "stdout",
     "output_type": "stream",
     "text": [
      "Hello, Alice!\n"
     ]
    }
   ],
   "source": [
    "#Q.1.What is a function in Python, and why is it used?\n",
    "'''In Python, a function is a block of organized, reusable code that performs\n",
    "a specific task or set of tasks. Functions are fundamental building blocks of Python programs \n",
    "and play a crucial role in structuring and modularizing your code. Here's why functions are used in Python:'''\n",
    "'''Functions allow you to break down a complex program into smaller, more manageable pieces. '''\n",
    "\n",
    "#here's an example\n",
    "\n",
    "def greet(name):\n",
    "    \"\"\"\n",
    "    This function greets the person passed in as a parameter.\n",
    "    \"\"\"\n",
    "    print(f\"Hello, {name}!\")\n",
    "\n",
    "# Call the function\n",
    "greet(\"Alice\")"
   ]
  },
  {
   "cell_type": "code",
   "execution_count": 7,
   "id": "2830fe99-ccdd-4c87-baa0-840b1307cf56",
   "metadata": {},
   "outputs": [
    {
     "name": "stdout",
     "output_type": "stream",
     "text": [
      "The sum is: 8\n"
     ]
    }
   ],
   "source": [
    "#Q.2.How do you define a function in Python? Provide an example.\n",
    "'''In Python, you can define a function using the def keyword followed \n",
    "by the function name, a pair of parentheses (), and a colon : to indicate\n",
    "the start of the function block. Here's the general syntax:'''\n",
    "\n",
    "'''def function_name(parameters):\n",
    "    \"\"\"Docstring (optional)\"\"\"\n",
    "    # Function body\n",
    "    # ...\n",
    "    return result (optional)'''\n",
    "\n",
    "#here's an example\n",
    "\n",
    "def add(a, b):\n",
    "    \"\"\"This function adds two numbers and returns the result.\"\"\"\n",
    "    result = a + b\n",
    "    return result\n",
    "\n",
    "# Call the add function\n",
    "sum_result = add(3, 5)\n",
    "\n",
    "# Print the result\n",
    "print(\"The sum is:\", sum_result)"
   ]
  },
  {
   "cell_type": "code",
   "execution_count": 10,
   "id": "5ccaa576-f285-49b0-9b46-80f4854adb19",
   "metadata": {},
   "outputs": [
    {
     "name": "stdout",
     "output_type": "stream",
     "text": [
      "The sum is: 8\n"
     ]
    }
   ],
   "source": [
    "#Q.3.Explain the difference between a function definition and a function call.\n",
    "'''A function definition is where you specify what a function does and how it operates.\n",
    "It defines the behavior and structure of the function while  A function call is the actual\n",
    "execution of the function with specific values (arguments) provided as input. It invokes the function\n",
    "to perform its defined task and potentially returns a result.'''\n",
    "\n",
    "#here's an example of function definition\n",
    "def add(a, b):\n",
    "    \"\"\"This function adds two numbers.\"\"\"\n",
    "    result = a + b\n",
    "    return result\n",
    "sum_result = add(3, 5)\n",
    "# Print the result\n",
    "print(\"The sum is:\", sum_result)"
   ]
  },
  {
   "cell_type": "code",
   "execution_count": 11,
   "id": "68284f5d-cc3d-44a6-b472-c000f0962fdc",
   "metadata": {},
   "outputs": [
    {
     "name": "stdout",
     "output_type": "stream",
     "text": [
      "The sum of 5 and 7 is 12\n"
     ]
    }
   ],
   "source": [
    "#Q.4.Write a Python program that defines a function to calculate the sum of two numbers and then calls the function.\n",
    "# Function definition\n",
    "def add_numbers(a, b):\n",
    "    \"\"\"This function calculates the sum of two numbers.\"\"\"\n",
    "    result = a + b\n",
    "    return result\n",
    "\n",
    "# Function call\n",
    "num1 = 5\n",
    "num2 = 7\n",
    "sum_result = add_numbers(num1, num2)\n",
    "\n",
    "# Display the result\n",
    "print(f\"The sum of {num1} and {num2} is {sum_result}\")"
   ]
  },
  {
   "cell_type": "code",
   "execution_count": 13,
   "id": "e0a1f395-3e8f-4bb1-983f-6701a88bc352",
   "metadata": {},
   "outputs": [
    {
     "name": "stdout",
     "output_type": "stream",
     "text": [
      "The sum is: 12\n"
     ]
    }
   ],
   "source": [
    "#Q.5.What is a function signature, and what information does it typically include?\n",
    "'''A function signature, also known as a function declaration or function prototype,\n",
    "is a concise way of describing a function's interface or contract without including the\n",
    "implementation details. It typically includes the following information:Function Name,Return Type,Parameter List'''\n",
    "\n",
    "#here's an example\n",
    "def add(a: int, b: int) -> int:\n",
    "    \"\"\"This function adds two integers and returns the result.\"\"\"\n",
    "    result = a + b\n",
    "    return result\n",
    "\n",
    "# Function call\n",
    "sum_result = add(5, 7)\n",
    "# Print the result\n",
    "print(\"The sum is:\", sum_result)"
   ]
  },
  {
   "cell_type": "code",
   "execution_count": 14,
   "id": "a2eeef74-b1c6-46e3-9beb-f873b0d129b8",
   "metadata": {},
   "outputs": [
    {
     "name": "stdout",
     "output_type": "stream",
     "text": [
      "The product of 5 and 7 is 35\n"
     ]
    }
   ],
   "source": [
    "#Q.6.Create a Python function that takes two arguments and returns their product.\n",
    "def multiply(a, b):\n",
    "    \"\"\"This function takes two arguments and returns their product.\"\"\"\n",
    "    result = a * b\n",
    "    return result\n",
    "\n",
    "# Test the function\n",
    "num1 = 5\n",
    "num2 = 7\n",
    "product = multiply(num1, num2)\n",
    "\n",
    "# Print the result\n",
    "print(f\"The product of {num1} and {num2} is {product}\")"
   ]
  },
  {
   "cell_type": "code",
   "execution_count": 15,
   "id": "aaf95adf-5ba2-4ae3-be3d-e941401edddd",
   "metadata": {},
   "outputs": [],
   "source": [
    "# FUNCTION PARAMETERS AND ARGUMENTS"
   ]
  },
  {
   "cell_type": "code",
   "execution_count": 1,
   "id": "e191eb16-c891-4768-9db8-1107de41235c",
   "metadata": {},
   "outputs": [],
   "source": [
    "#Q.1.Explain the concepts of formal parameters and actual arguments in Python functions.\n",
    "'''The major difference between actual and formal parameters is that formal parameters are declared\n",
    "on calling the function and the actual parameter is declared on invoking. The actual parameters can\n",
    "carry constant values whereas formal parameters carry variables.'''\n",
    "#here's an example of formal parameters\n",
    "def greet(name):  # Here, \"name\" is a formal parameter.\n",
    "    print(f\"Hello, {name}!\")"
   ]
  },
  {
   "cell_type": "code",
   "execution_count": 2,
   "id": "ae159a3c-582e-4eab-be46-c188c6fc3c0f",
   "metadata": {},
   "outputs": [],
   "source": [
    "#here's an example  for actual arguments\n",
    "def add(x, y):  # Here, \"x\" and \"y\" are formal parameters.\n",
    "    result = x + y\n",
    "    return result\n",
    "\n",
    "# Calling the \"add\" function with actual arguments.\n",
    "sum_result = add(3, 5)  # 3 and 5 are actual arguments."
   ]
  },
  {
   "cell_type": "code",
   "execution_count": 3,
   "id": "63a1eb14-5f70-4b0c-89b2-bcf0a221493a",
   "metadata": {},
   "outputs": [
    {
     "name": "stdout",
     "output_type": "stream",
     "text": [
      "Hello, Guest!\n",
      "Hi, Alice!\n",
      "Hello, Bob!\n",
      "Hola, Guest!\n"
     ]
    }
   ],
   "source": [
    "#Q.2.Write a Python program that defines a function with default argument values.\n",
    "# Define a function with default argument values\n",
    "def greet(name=\"Guest\", greeting=\"Hello\"):\n",
    "    \"\"\"\n",
    "    This function greets a person with a specified greeting.\n",
    "\n",
    "    :param name: The name of the person to greet (default is \"Guest\").\n",
    "    :param greeting: The greeting message (default is \"Hello\").\n",
    "    \"\"\"\n",
    "    print(f\"{greeting}, {name}!\")\n",
    "\n",
    "# Call the function without specifying arguments\n",
    "greet()  # Uses default values for name and greeting\n",
    "\n",
    "# Call the function with custom arguments\n",
    "greet(\"Alice\", \"Hi\")  # Overrides both name and greeting\n",
    "greet(\"Bob\")           # Overrides only the name, uses default greeting\n",
    "greet(greeting=\"Hola\") # Overrides only the greeting, uses default name"
   ]
  },
  {
   "cell_type": "code",
   "execution_count": 4,
   "id": "22c837df-3f3a-41cb-b9c6-38413634b776",
   "metadata": {},
   "outputs": [
    {
     "name": "stdout",
     "output_type": "stream",
     "text": [
      "Name: Alice\n",
      "Age: 30\n",
      "City: New York\n",
      "Name: Bob\n",
      "Age: 25\n",
      "City: Los Angeles\n",
      "Name: Charlie\n",
      "Age: 40\n",
      "City: Chicago\n"
     ]
    }
   ],
   "source": [
    "#Q.3.How do you use keyword arguments in Python function calls? Provide an example.\n",
    "'''In Python, you can use keyword arguments in function calls to explicitly specify\n",
    "which argument corresponds to which parameter, regardless of the order in which they are defined in the function's signature.'''\n",
    "# Define a function with multiple parameters\n",
    "def display_info(name, age, city):\n",
    "    print(f\"Name: {name}\")\n",
    "    print(f\"Age: {age}\")\n",
    "    print(f\"City: {city}\")\n",
    "\n",
    "# Using keyword arguments to call the function\n",
    "display_info(name=\"Alice\", age=30, city=\"New York\")\n",
    "\n",
    "# The order of keyword arguments doesn't matter\n",
    "display_info(city=\"Los Angeles\", name=\"Bob\", age=25)\n",
    "\n",
    "# You can mix keyword arguments and positional arguments\n",
    "display_info(\"Charlie\", city=\"Chicago\", age=40)"
   ]
  },
  {
   "cell_type": "code",
   "execution_count": 5,
   "id": "a2d2f7f4-ccc8-4eea-9cb9-dfb40e8f9904",
   "metadata": {},
   "outputs": [
    {
     "name": "stdout",
     "output_type": "stream",
     "text": [
      "15\n",
      "60\n",
      "42\n"
     ]
    }
   ],
   "source": [
    "#Q.4.Create a Python function that accepts a variable number of arguments and calculates their sum.\n",
    "def calculate_sum(*args):\n",
    "    \"\"\"\n",
    "    This function accepts a variable number of arguments and calculates their sum.\n",
    "\n",
    "    :param args: The arguments to be summed.\n",
    "    :return: The sum of the arguments.\n",
    "    \"\"\"\n",
    "    total = 0\n",
    "    for arg in args:\n",
    "        total += arg\n",
    "    return total\n",
    "\n",
    "# Example usage\n",
    "result1 = calculate_sum(1, 2, 3, 4, 5)\n",
    "result2 = calculate_sum(10, 20, 30)\n",
    "result3 = calculate_sum(2, 4, 6, 8, 10, 12)\n",
    "\n",
    "print(result1)  # Output: 15\n",
    "print(result2)  # Output: 60\n",
    "print(result3)  # Output: 42"
   ]
  },
  {
   "cell_type": "code",
   "execution_count": 8,
   "id": "f774667b-15f8-4deb-a5a4-482cff70a82c",
   "metadata": {},
   "outputs": [
    {
     "name": "stdout",
     "output_type": "stream",
     "text": [
      "15\n"
     ]
    }
   ],
   "source": [
    "#Q.5.What is the purpose of the `*args` and `**kwargs` syntax in function parameter lists?\n",
    "'''The *args and **kwargs syntax in function parameter lists in Python serve the purpose of allowing \n",
    "functions to accept a variable number of arguments, both positional and keyword, respectively.\n",
    "They provide flexibility and versatility when defining functions, making it possible to work with\n",
    "different argument counts without explicitly specifying them in the function signature.'''\n",
    "\n",
    "#here's an example for '*args'\n",
    "def calculate_sum(*args):\n",
    "    total = 0\n",
    "    for arg in args:\n",
    "        total += arg\n",
    "    return total\n",
    "\n",
    "result = calculate_sum(1, 2, 3, 4, 5)\n",
    "print(result)"
   ]
  },
  {
   "cell_type": "code",
   "execution_count": 7,
   "id": "38303bbe-3018-4fd0-9a0e-592cc6d2dc4b",
   "metadata": {},
   "outputs": [
    {
     "name": "stdout",
     "output_type": "stream",
     "text": [
      "name: Alice\n",
      "age: 30\n",
      "city: New York\n"
     ]
    }
   ],
   "source": [
    "#here's an example for '*kwargs'\n",
    "def display_info(**kwargs):\n",
    "    for key, value in kwargs.items():\n",
    "        print(f\"{key}: {value}\")\n",
    "\n",
    "display_info(name=\"Alice\", age=30, city=\"New York\")"
   ]
  },
  {
   "cell_type": "code",
   "execution_count": 9,
   "id": "03745efe-e115-46b7-941e-5cfa49ea3512",
   "metadata": {},
   "outputs": [],
   "source": [
    "# RETURN VALUE AND SCOPING"
   ]
  },
  {
   "cell_type": "code",
   "execution_count": 10,
   "id": "c51c78c6-c54d-45b1-ade1-3c92b169a8e5",
   "metadata": {},
   "outputs": [
    {
     "name": "stdout",
     "output_type": "stream",
     "text": [
      "Total: 150, Average: 30.0\n"
     ]
    }
   ],
   "source": [
    "#Q.1.Describe the role of the `return` statement in Python functions and provide examples.\n",
    "'''The return statement in Python functions is used to specify the value or values that a\n",
    "function should return to the caller when the function is executed.'''\n",
    "#here's an example\n",
    "def calculate_stats(numbers):\n",
    "    total = sum(numbers)\n",
    "    average = total / len(numbers)\n",
    "    return total, average\n",
    "\n",
    "values = [10, 20, 30, 40, 50]\n",
    "total_sum, avg = calculate_stats(values)\n",
    "print(f\"Total: {total_sum}, Average: {avg}\")\n",
    "# Output: Total: 150, Average: 30.0"
   ]
  },
  {
   "cell_type": "code",
   "execution_count": 11,
   "id": "42da58b5-cdc1-47c2-acce-e676efb39221",
   "metadata": {},
   "outputs": [
    {
     "name": "stdout",
     "output_type": "stream",
     "text": [
      "10\n"
     ]
    }
   ],
   "source": [
    "#Q.2.Explain the concept of variable scope in Python, including local and global variables.\n",
    "'''In Python, variable scope refers to the region of a program where a particular variable\n",
    "is accessible or can be used. The scope of a variable determines where in the code you can access and manipulate its value'''\n",
    "#here's an example for local variable\n",
    "def my_function():\n",
    "    x = 10  # 'x' is a local variable\n",
    "    print(x)  # This will print 10\n",
    "\n",
    "my_function()\n",
    "# Outside of my_function, 'x' is not accessible\n",
    "# print(x)  # This would result in a NameError"
   ]
  },
  {
   "cell_type": "code",
   "execution_count": 12,
   "id": "fc3aba68-6f5f-4047-ad0a-a5a60c72fc27",
   "metadata": {},
   "outputs": [
    {
     "name": "stdout",
     "output_type": "stream",
     "text": [
      "20\n",
      "20\n",
      "30\n"
     ]
    }
   ],
   "source": [
    "#here's an example for global variables\n",
    "y = 20  # 'y' is a global variable\n",
    "\n",
    "def my_function():\n",
    "    print(y)  # This will print 20\n",
    "\n",
    "my_function()\n",
    "print(y)  # This will also print 20\n",
    "\n",
    "def modify_global():\n",
    "    global y\n",
    "    y = 30\n",
    "\n",
    "modify_global()\n",
    "print(y)  # After modification, 'y' is now 30"
   ]
  },
  {
   "cell_type": "code",
   "execution_count": 13,
   "id": "8335adfd-f822-41d0-8892-d183c80fbd39",
   "metadata": {},
   "outputs": [
    {
     "name": "stdout",
     "output_type": "stream",
     "text": [
      "Initial global_variable value: 10\n",
      "Accessing global_variable from inside the function: 10\n",
      "Modified global_variable from inside the function: 15\n",
      "Modified global_variable value: 15\n"
     ]
    }
   ],
   "source": [
    "#Q.3.Write a Python program that demonstrates the use of global variables within functions.\n",
    "# Define a global variable\n",
    "global_variable = 10\n",
    "\n",
    "def access_global_variable():\n",
    "    # Access the global variable within the function\n",
    "    print(\"Accessing global_variable from inside the function:\", global_variable)\n",
    "\n",
    "def modify_global_variable():\n",
    "    # Modify the global variable within the function\n",
    "    global global_variable\n",
    "    global_variable += 5\n",
    "    print(\"Modified global_variable from inside the function:\", global_variable)\n",
    "\n",
    "# Display the initial value of the global variable\n",
    "print(\"Initial global_variable value:\", global_variable)\n",
    "\n",
    "# Call the function to access the global variable\n",
    "access_global_variable()\n",
    "\n",
    "# Call the function to modify the global variable\n",
    "modify_global_variable()\n",
    "\n",
    "# Display the modified value of the global variable\n",
    "print(\"Modified global_variable value:\", global_variable)"
   ]
  },
  {
   "cell_type": "code",
   "execution_count": 14,
   "id": "96316fda-ed9e-44a6-91b5-66bc696bc4e0",
   "metadata": {},
   "outputs": [
    {
     "name": "stdout",
     "output_type": "stream",
     "text": [
      "The factorial of 5 is 120\n"
     ]
    }
   ],
   "source": [
    "#Q.4.Create a Python function that calculates the factorial of a number and returns it.\n",
    "def factorial(n):\n",
    "    \"\"\"\n",
    "    Calculate the factorial of a non-negative integer 'n'.\n",
    "\n",
    "    :param n: Non-negative integer for which factorial is calculated.\n",
    "    :return: Factorial of 'n'.\n",
    "    \"\"\"\n",
    "    if n < 0:\n",
    "        raise ValueError(\"Factorial is undefined for negative numbers\")\n",
    "    result = 1\n",
    "    for i in range(1, n + 1):\n",
    "        result *= i\n",
    "    return result\n",
    "\n",
    "# Example usage:\n",
    "num = 5\n",
    "fact = factorial(num)\n",
    "print(f\"The factorial of {num} is {fact}\")"
   ]
  },
  {
   "cell_type": "code",
   "execution_count": 15,
   "id": "0aa40d21-26fb-4daf-ae37-0774853e3273",
   "metadata": {},
   "outputs": [
    {
     "name": "stdout",
     "output_type": "stream",
     "text": [
      "Accessing global_variable from inside the function: 10\n",
      "Accessing global_variable outside the function: 10\n"
     ]
    }
   ],
   "source": [
    "#Q.5.How can you access variables defined outside a function from within the function?\n",
    "'''In Python, you can access variables defined outside a function from within the\n",
    "function by declaring them as global variables within the function using the global\n",
    "keyword. Here's how you can access external variables from within a function:'''\n",
    "\n",
    "# Define a global variable\n",
    "global_variable = 10\n",
    "\n",
    "def access_global_variable():\n",
    "    # Access the global variable within the function\n",
    "    global global_variable\n",
    "    print(\"Accessing global_variable from inside the function:\", global_variable)\n",
    "\n",
    "# Call the function to access the global variable\n",
    "access_global_variable()\n",
    "\n",
    "# Access the global variable outside the function\n",
    "print(\"Accessing global_variable outside the function:\", global_variable)"
   ]
  },
  {
   "cell_type": "code",
   "execution_count": 16,
   "id": "5051ea1c-453c-40da-ac40-1b006129ace2",
   "metadata": {},
   "outputs": [],
   "source": [
    "# LAMBDA FUNCTIONS AND HIGHER-ORDER FUNCTIONS:"
   ]
  },
  {
   "cell_type": "code",
   "execution_count": 18,
   "id": "80caf6ed-c7f5-42a2-bb66-2658e6a69fff",
   "metadata": {},
   "outputs": [
    {
     "data": {
      "text/plain": [
       "<function __main__.<lambda>(arguments)>"
      ]
     },
     "execution_count": 18,
     "metadata": {},
     "output_type": "execute_result"
    }
   ],
   "source": [
    "#Q.1.What are lambda functions in Python, and when are they typically used?\n",
    "'''In Python, a lambda function, also known as an anonymous function or\n",
    "a lambda expression, is a small, unnamed function that is defined using the\n",
    "lambda keyword. Lambda functions are typically used for short, simple operations \n",
    "where defining a full-fledged function using the def keyword would be unnecessarily verbose.'''\n",
    "# here's the basic syntax for lambda\n",
    "lambda arguments: expression"
   ]
  },
  {
   "cell_type": "code",
   "execution_count": 19,
   "id": "dd189830-54f3-4f4a-829e-83b3ac70a1f7",
   "metadata": {},
   "outputs": [
    {
     "name": "stdout",
     "output_type": "stream",
     "text": [
      "Sorted data based on the second element:\n",
      "(4, 2)\n",
      "(2, 3)\n",
      "(1, 5)\n",
      "(3, 7)\n"
     ]
    }
   ],
   "source": [
    "#Q.2.Write a Python program that uses lambda functions to sort a list of tuples based on the second element.\n",
    "# List of tuples\n",
    "data = [(1, 5), (2, 3), (3, 7), (4, 2)]\n",
    "\n",
    "# Sort the list of tuples based on the second element (index 1)\n",
    "sorted_data = sorted(data, key=lambda x: x[1])\n",
    "\n",
    "# Display the sorted list\n",
    "print(\"Sorted data based on the second element:\")\n",
    "for item in sorted_data:\n",
    "    print(item)"
   ]
  },
  {
   "cell_type": "code",
   "execution_count": 20,
   "id": "efef6317-ae01-4e63-adb0-64ac512a54b9",
   "metadata": {},
   "outputs": [
    {
     "name": "stdout",
     "output_type": "stream",
     "text": [
      "Result of addition: 8\n",
      "Result of subtraction: 6\n",
      "Result of multiplication: 14\n",
      "Result of division: 4.0\n"
     ]
    }
   ],
   "source": [
    "#Q.3.Explain the concept of higher-order functions in Python, and provide an example.\n",
    "'''In Python, a higher-order function is a function that takes one or more functions \n",
    "as arguments and/or returns a function as its result.'''\n",
    "#here's an example for higher order\n",
    "# Higher-order function example: apply_operation\n",
    "\n",
    "def apply_operation(operation, x, y):\n",
    "    \"\"\"\n",
    "    Apply the specified operation to the given values 'x' and 'y'.\n",
    "\n",
    "    :param operation: A function that takes two arguments and performs an operation.\n",
    "    :param x: The first operand.\n",
    "    :param y: The second operand.\n",
    "    :return: The result of applying the operation to 'x' and 'y'.\n",
    "    \"\"\"\n",
    "    return operation(x, y)\n",
    "\n",
    "# Define some operation functions\n",
    "def add(a, b):\n",
    "    return a + b\n",
    "\n",
    "def subtract(a, b):\n",
    "    return a - b\n",
    "\n",
    "def multiply(a, b):\n",
    "    return a * b\n",
    "\n",
    "def divide(a, b):\n",
    "    if b != 0:\n",
    "        return a / b\n",
    "    else:\n",
    "        return \"Cannot divide by zero\"\n",
    "\n",
    "# Using apply_operation with different operations\n",
    "result1 = apply_operation(add, 5, 3)\n",
    "result2 = apply_operation(subtract, 10, 4)\n",
    "result3 = apply_operation(multiply, 7, 2)\n",
    "result4 = apply_operation(divide, 8, 2)\n",
    "\n",
    "print(\"Result of addition:\", result1)\n",
    "print(\"Result of subtraction:\", result2)\n",
    "print(\"Result of multiplication:\", result3)\n",
    "print(\"Result of division:\", result4)"
   ]
  },
  {
   "cell_type": "code",
   "execution_count": 21,
   "id": "31c79cea-366a-45cd-b09a-12718e73aa0e",
   "metadata": {},
   "outputs": [
    {
     "name": "stdout",
     "output_type": "stream",
     "text": [
      "Original numbers: [1, 2, 3, 4, 5]\n",
      "Squared numbers: [1, 4, 9, 16, 25]\n",
      "Doubled numbers: [2, 4, 6, 8, 10]\n"
     ]
    }
   ],
   "source": [
    "#Q.4.Create a Python function that takes a list of numbers and a function as arguments, applying the function to each element in the list.\n",
    "def apply_function_to_list(numbers, func):\n",
    "    \"\"\"\n",
    "    Apply the specified function to each element in the list of numbers.\n",
    "\n",
    "    :param numbers: A list of numbers.\n",
    "    :param func: A function to apply to each element in the list.\n",
    "    :return: A list containing the results of applying the function to each element.\n",
    "    \"\"\"\n",
    "    result = []\n",
    "    for num in numbers:\n",
    "        result.append(func(num))\n",
    "    return result\n",
    "\n",
    "# Define a function to square a number\n",
    "def square(x):\n",
    "    return x**2\n",
    "\n",
    "# Define a function to double a number\n",
    "def double(x):\n",
    "    return x * 2\n",
    "\n",
    "# List of numbers\n",
    "numbers = [1, 2, 3, 4, 5]\n",
    "\n",
    "# Apply the 'square' function to the list\n",
    "squared_numbers = apply_function_to_list(numbers, square)\n",
    "\n",
    "# Apply the 'double' function to the list\n",
    "doubled_numbers = apply_function_to_list(numbers, double)\n",
    "\n",
    "print(\"Original numbers:\", numbers)\n",
    "print(\"Squared numbers:\", squared_numbers)\n",
    "print(\"Doubled numbers:\", doubled_numbers)"
   ]
  },
  {
   "cell_type": "code",
   "execution_count": 22,
   "id": "e9a5a3d8-3709-4fe0-8be2-4939bd667403",
   "metadata": {},
   "outputs": [],
   "source": [
    "# BUILT-IN FUNCTIONS"
   ]
  },
  {
   "cell_type": "code",
   "execution_count": 23,
   "id": "c74d2aae-7a08-451a-ac78-283157ed1eb3",
   "metadata": {},
   "outputs": [],
   "source": [
    "#Q.1.Describe the role of built-in functions like `len()`, `max()`, and `min()` in Python.\n",
    "'''Built-in functions like len(), max(), and min() in Python are essential\n",
    "tools for performing common operations on data structures and values.'''\n",
    "#here's an example for 'len()'\n",
    "text = \"Hello, World!\"\n",
    "length = len(text)  # Returns 13"
   ]
  },
  {
   "cell_type": "code",
   "execution_count": 24,
   "id": "30b77db1-1a9d-4423-81e1-d29826477bcc",
   "metadata": {},
   "outputs": [],
   "source": [
    "#here's an example for 'max()'\n",
    "numbers = [3, 1, 4, 1, 5, 9, 2, 6, 5, 3, 5]\n",
    "maximum = max(numbers)  # Returns 9"
   ]
  },
  {
   "cell_type": "code",
   "execution_count": 25,
   "id": "2ed89913-beb8-4e65-961c-dd274759cbb3",
   "metadata": {},
   "outputs": [],
   "source": [
    "#here's an example for 'min()'\n",
    "temperatures = [32.2, 27.5, 29.8, 25.9, 30.5]\n",
    "minimum = min(temperatures)  # Returns 25.9"
   ]
  },
  {
   "cell_type": "code",
   "execution_count": 26,
   "id": "7e4b844f-60ab-4948-a7d6-690b4b63d1e8",
   "metadata": {},
   "outputs": [
    {
     "name": "stdout",
     "output_type": "stream",
     "text": [
      "Original numbers: [1, 2, 3, 4, 5]\n",
      "Squared numbers: [1, 4, 9, 16, 25]\n"
     ]
    }
   ],
   "source": [
    "#Q.2.Write a Python program that uses the `map()` function to apply a function to each element of a list.\n",
    "# Define a function to square a number\n",
    "def square(x):\n",
    "    return x**2\n",
    "\n",
    "# List of numbers\n",
    "numbers = [1, 2, 3, 4, 5]\n",
    "\n",
    "# Use map() to apply the 'square' function to each element in the list\n",
    "squared_numbers = list(map(square, numbers))\n",
    "\n",
    "# Display the squared numbers\n",
    "print(\"Original numbers:\", numbers)\n",
    "print(\"Squared numbers:\", squared_numbers)"
   ]
  },
  {
   "cell_type": "code",
   "execution_count": 27,
   "id": "37616f3f-a1b9-4dcc-9918-e28fe1ee1447",
   "metadata": {},
   "outputs": [
    {
     "name": "stdout",
     "output_type": "stream",
     "text": [
      "Original numbers: [1, 2, 3, 4, 5, 6, 7, 8, 9, 10]\n",
      "Even numbers: [2, 4, 6, 8, 10]\n"
     ]
    }
   ],
   "source": [
    "#Q.3.How does the `filter()` function work in Python, and when would you use it?\n",
    "'''The filter() function in Python is used to filter elements from an \n",
    "iterable (e.g., a list, tuple, or string) based on a given function (predicate)\n",
    "that defines a condition. It returns an iterator containing only the elements that satisfy the specified condition.'''\n",
    "'''You would typically use the filter() function when you need to extract specific elements from an iterable based on a certain condition'''\n",
    "#here's an example for 'filter()'functions\n",
    "# Define a function to check if a number is even\n",
    "def is_even(x):\n",
    "    return x % 2 == 0\n",
    "\n",
    "# List of numbers\n",
    "numbers = [1, 2, 3, 4, 5, 6, 7, 8, 9, 10]\n",
    "\n",
    "# Use filter() to filter even numbers from the list\n",
    "even_numbers = list(filter(is_even, numbers))\n",
    "\n",
    "# Display the filtered even numbers\n",
    "print(\"Original numbers:\", numbers)\n",
    "print(\"Even numbers:\", even_numbers)"
   ]
  },
  {
   "cell_type": "code",
   "execution_count": 28,
   "id": "aa7f84e6-15f2-4ca9-bd0f-4e3095234192",
   "metadata": {},
   "outputs": [
    {
     "name": "stdout",
     "output_type": "stream",
     "text": [
      "Numbers: [1, 2, 3, 4, 5]\n",
      "Product of all elements: 120\n"
     ]
    }
   ],
   "source": [
    "#Q.4.Create a Python program that uses the `reduce()` function to find the product of all elements in a list.\n",
    "from functools import reduce\n",
    "\n",
    "# Define a function to multiply two numbers\n",
    "def multiply(x, y):\n",
    "    return x * y\n",
    "\n",
    "# List of numbers\n",
    "numbers = [1, 2, 3, 4, 5]\n",
    "\n",
    "# Use reduce() to find the product of all elements in the list\n",
    "product = reduce(multiply, numbers)\n",
    "\n",
    "# Display the product\n",
    "print(\"Numbers:\", numbers)\n",
    "print(\"Product of all elements:\", product)"
   ]
  },
  {
   "cell_type": "code",
   "execution_count": 29,
   "id": "bf593f04-5c1b-46b9-acee-0d9f5ca6adb0",
   "metadata": {},
   "outputs": [],
   "source": [
    "# FUNCTION DOCUMENTATION AND BEST PRACTICE"
   ]
  },
  {
   "cell_type": "code",
   "execution_count": 30,
   "id": "9c8762ad-6686-42c0-9807-1a007cef1b56",
   "metadata": {},
   "outputs": [],
   "source": [
    "#Q.1.Explain the purpose of docstrings in Python functions and how to write them.\n",
    "#Here's the purpose and importance of docstrings:\n",
    "''' Docstrings provide clear and concise information about what a function does, what arguments it accepts, their types, and what it returns. \n",
    "Well-written docstrings make your code more readable by providing context and explanations directly within the code. \n",
    "Docstrings are often used by documentation generators (e.g., Sphinx) to automatically generate documentation for your code, including user guides, reference manuals, and online documentation.'''\n",
    "#here's an example how to write docstring function\n",
    "def calculate_sum(a, b):\n",
    "    \"\"\"\n",
    "    Calculate the sum of two numbers.\n",
    "\n",
    "    This function takes two numbers, 'a' and 'b', and returns their sum.\n",
    "\n",
    "    Args:\n",
    "        a (int): The first number.\n",
    "        b (int): The second number.\n",
    "\n",
    "    Returns:\n",
    "        int: The sum of 'a' and 'b'.\n",
    "\n",
    "    Example:\n",
    "        >>> calculate_sum(3, 5)\n",
    "        8\n",
    "    \"\"\"\n",
    "    return a + b"
   ]
  },
  {
   "cell_type": "code",
   "execution_count": 1,
   "id": "a23e669e-f94a-46cd-929d-9c5a39ff8233",
   "metadata": {},
   "outputs": [],
   "source": [
    "#Q.2.Describe some best practices for naming functions and variables in Python, including naming conventions and guidelines.\n",
    "'''Naming functions and variables in Python is an important aspect of writing clean and maintainable code.\n",
    "Using consistent and descriptive names enhances the readability and understandability of your code. \n",
    "Here are some best practices, naming conventions, and guidelines for naming functions and variables in Python:'''\n",
    "'''(1)Use Descriptive Names\n",
    "(2)  Follow PEP 8\n",
    "(3) Be Consistent\n",
    "(4) Use Verb-Noun for Functions\n",
    "(5)Use Singular Nouns for Variables\n",
    "(6)Avoid Reserved Words\n",
    "(7)Keep Names Concise\n",
    "(8) Use Meaningful Prefixes or Suffixes\n",
    "(9) Avoid Ambiguity\n",
    "(10)Refactor as Needed:\n",
    "- If you realize that a function or variable name could be improved for clarity, don't hesitate to refactor it. Maintainability is key.'''\n",
    "#Here are some examples following these best practices:\n",
    "# Function name using snake_case and a verb-noun structure\n",
    "def calculate_average(scores):\n",
    "    # Variable names using descriptive singular nouns\n",
    "    total_score = 0\n",
    "    num_students = len(scores)\n",
    "    \n",
    "    # Constants in ALL_CAPS\n",
    "    PASSING_SCORE = 70"
   ]
  },
  {
   "cell_type": "code",
   "execution_count": 2,
   "id": "1b2206d8-bb12-4dcb-b39f-fc62d77b6033",
   "metadata": {},
   "outputs": [],
   "source": [
    "#END"
   ]
  },
  {
   "cell_type": "code",
   "execution_count": null,
   "id": "947ec6b1-eb45-403b-a8a5-f475aea0cbb5",
   "metadata": {},
   "outputs": [],
   "source": []
  }
 ],
 "metadata": {
  "kernelspec": {
   "display_name": "Python 3 (ipykernel)",
   "language": "python",
   "name": "python3"
  },
  "language_info": {
   "codemirror_mode": {
    "name": "ipython",
    "version": 3
   },
   "file_extension": ".py",
   "mimetype": "text/x-python",
   "name": "python",
   "nbconvert_exporter": "python",
   "pygments_lexer": "ipython3",
   "version": "3.10.8"
  }
 },
 "nbformat": 4,
 "nbformat_minor": 5
}
